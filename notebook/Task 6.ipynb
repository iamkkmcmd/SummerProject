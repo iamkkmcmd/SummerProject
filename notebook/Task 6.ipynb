{
 "cells": [
  {
   "cell_type": "markdown",
   "metadata": {},
   "source": [
    "### Load the libraries/modules"
   ]
  },
  {
   "cell_type": "code",
   "execution_count": 1,
   "metadata": {},
   "outputs": [],
   "source": [
    "import os, sys, copy, time\n",
    "from tqdm.notebook import tqdm\n",
    "import numpy as np\n",
    "import pandas as pd\n",
    "import statsmodels.api as sm\n",
    "import functions as func\n",
    "import warnings\n",
    "warnings.filterwarnings('ignore')"
   ]
  },
  {
   "cell_type": "markdown",
   "metadata": {},
   "source": [
    "### Load the necessary data"
   ]
  },
  {
   "cell_type": "code",
   "execution_count": 2,
   "metadata": {},
   "outputs": [],
   "source": [
    "# Load all the necessary data\n",
    "nifty50_bbc = pd.read_csv('./../data/nifty50_before_before_covid.csv')\n",
    "nifty50_bc = pd.read_csv('./../data/nifty50_before_covid.csv')\n",
    "nifty50_ac = pd.read_csv('./../data/nifty50_after_covid.csv')\n",
    "firms_bbc = pd.read_csv('./../data/map_data_before_before_covid.csv')\n",
    "firms_bc = pd.read_csv('./../data/map_data_before_covid.csv')\n",
    "firms_ac = pd.read_csv('./../data/map_data_after_covid.csv')\n",
    "banks_vulnerability = pd.read_csv('./../data/banks_vulnerability.csv', index_col=0)\n",
    "banks_vulnerability.columns = ['symbol', 'banker_name', 'type', 'beta', 'mes', 'vulnerable']\n",
    "banks_vulnerability['banker_name'] = banks_vulnerability['banker_name'].apply(lambda x: x.upper())\n",
    "banks_firms_connection = pd.read_csv('./../data/bank_firm_connection_filter.csv')\n",
    "banks_firms_connection.drop(['bnkhist_date'], axis = 1, inplace = True)\n"
   ]
  },
  {
   "cell_type": "markdown",
   "metadata": {},
   "source": [
    "### Date-time column to datetime object"
   ]
  },
  {
   "cell_type": "code",
   "execution_count": 3,
   "metadata": {},
   "outputs": [],
   "source": [
    "nifty50_bbc['Date'] = pd.to_datetime(nifty50_bbc['Date'])\n",
    "nifty50_bc['Date'] = pd.to_datetime(nifty50_bc['Date'])\n",
    "nifty50_ac['Date'] = pd.to_datetime(nifty50_ac['Date'])\n",
    "nifty50_bbc.index = nifty50_bbc['Date']\n",
    "nifty50_bc.index = nifty50_bc['Date']\n",
    "nifty50_ac.index = nifty50_ac['Date']\n",
    "firms_bbc['co_stkdate'] = pd.to_datetime(firms_bbc['co_stkdate'])\n",
    "firms_bc['co_stkdate'] = pd.to_datetime(firms_bc['co_stkdate'])\n",
    "firms_ac['co_stkdate'] = pd.to_datetime(firms_ac['co_stkdate'])\n",
    "firms_bbc.index = firms_bbc['co_stkdate']\n",
    "firms_bc.index = firms_bc['co_stkdate']\n",
    "firms_ac.index = firms_ac['co_stkdate']"
   ]
  },
  {
   "cell_type": "code",
   "execution_count": 4,
   "metadata": {},
   "outputs": [],
   "source": [
    "# ### Demo\n",
    "# # Demo for company: 20 MICRONS LTD.\n",
    "# firm_cp = firms_bc.loc[firms_bc['company_name'] == '20 MICRONS LTD.']['bse_closing_price']\n",
    "# # firm_cp.reset_index(drop = True, inplace = True)\n",
    "# merged_CP = func.merging_CP(firm_cp, nifty50_bc['Close'])\n",
    "# merged_CP.head()\n",
    "\n",
    "# reg_data = func.making_data_reg(merged_CP)\n",
    "# reg_data.dropna(inplace=True)\n",
    "# reg_data.head()\n",
    "# residuals = func.reg_residuals(reg_data.drop(['y'], axis=1).values, reg_data['y'].values)\n",
    "# df = pd.DataFrame({'firm_return':reg_data['y'],'residuals':residuals, \n",
    "#                 'w':func.firm_specific_return(residuals)})\n",
    "# df.head()\n",
    "# func.DUVOL(df)\n",
    "# n = 1\n",
    "# p = 0\n",
    "# if n in [0,1] or p in [0,1]:\n",
    "#     print(n,p)"
   ]
  },
  {
   "cell_type": "markdown",
   "metadata": {},
   "source": [
    "### Calculating crash risk"
   ]
  },
  {
   "attachments": {},
   "cell_type": "markdown",
   "metadata": {},
   "source": [
    "Running over all firms across time period:"
   ]
  },
  {
   "cell_type": "markdown",
   "metadata": {},
   "source": [
    "Limitation: All firms do not have much data.\n",
    "- Run for those firms which have exact 120 days data available.\n",
    "- NSE/BSE (Which have more data)"
   ]
  },
  {
   "cell_type": "code",
   "execution_count": 5,
   "metadata": {},
   "outputs": [
    {
     "name": "stdout",
     "output_type": "stream",
     "text": [
      "Shape of the mapping data is (Initial stage of corona): (278641, 6)\n",
      "Shape of the mapping data is (Before corona): (278817, 6)\n",
      "Shape of the mapping data is (After corona): (277338, 6)\n"
     ]
    }
   ],
   "source": [
    "# Printing the shape of the data\n",
    "print(f'Shape of the mapping data is (Initial stage of corona): {firms_bbc.shape}')\n",
    "print(f'Shape of the mapping data is (Before corona): {firms_bc.shape}')\n",
    "print(f'Shape of the mapping data is (After corona): {firms_ac.shape}')"
   ]
  },
  {
   "cell_type": "code",
   "execution_count": 6,
   "metadata": {},
   "outputs": [],
   "source": [
    "# Filtered out by exchange center which have atleast 100 days data\n",
    "df_nse = firms_bc.dropna(thresh=2, axis=0).groupby(by = ['company_name'])['nse_closing_price'].count().reset_index()\n",
    "df_nse = df_nse[df_nse.nse_closing_price > 35]\n",
    "df_bse = firms_bc.dropna(thresh=2, axis=0).groupby(by = ['company_name'])['bse_closing_price'].count().reset_index()\n",
    "df_bse = df_bse[df_bse.bse_closing_price > 35]"
   ]
  },
  {
   "cell_type": "code",
   "execution_count": 7,
   "metadata": {},
   "outputs": [],
   "source": [
    "# Separate out by exchange center\n",
    "company_name_nse = df_nse['company_name'].values\n",
    "company_name_bse = []\n",
    "for company in df_bse['company_name'].values:\n",
    "    if company not in company_name_nse:\n",
    "        company_name_bse.append(company)"
   ]
  },
  {
   "cell_type": "code",
   "execution_count": 8,
   "metadata": {},
   "outputs": [
    {
     "data": {
      "application/vnd.jupyter.widget-view+json": {
       "model_id": "74d7f333db834c62a4a41af833768893",
       "version_major": 2,
       "version_minor": 0
      },
      "text/plain": [
       "  0%|          | 0/1384 [00:00<?, ?it/s]"
      ]
     },
     "metadata": {},
     "output_type": "display_data"
    },
    {
     "data": {
      "application/vnd.jupyter.widget-view+json": {
       "model_id": "3075aec3f03f40dbb5536fc0dfd92005",
       "version_major": 2,
       "version_minor": 0
      },
      "text/plain": [
       "  0%|          | 0/1121 [00:00<?, ?it/s]"
      ]
     },
     "metadata": {},
     "output_type": "display_data"
    }
   ],
   "source": [
    "result_crash_risk_bbc = []\n",
    "firms_singular_bbc = []\n",
    "# NSE: Before of Before COVID\n",
    "for firm in tqdm(company_name_nse):\n",
    "    try:\n",
    "        firm_cp = firms_bbc.loc[firms_bbc['company_name'] == firm]['nse_closing_price']\n",
    "        market_cp = nifty50_bbc['Close']\n",
    "        result = func.crash_risk(firm_cp, market_cp)\n",
    "        result_crash_risk_bbc.append(('NSE', firm, -1, result[0], result[1], result[2]))\n",
    "    except:\n",
    "        firms_singular_bbc.append(firm)\n",
    "\n",
    "# BSE: Before of Before COVID\n",
    "for firm in tqdm(company_name_bse):\n",
    "    try:\n",
    "        firm_cp = firms_bbc.loc[firms_bbc['company_name'] == firm]['bse_closing_price']\n",
    "        market_cp = nifty50_bbc['Close']\n",
    "        result = func.crash_risk(firm_cp, market_cp)\n",
    "        result_crash_risk_bbc.append(('BSE', firm, -1, result[0], result[1], result[2]))\n",
    "    except:\n",
    "        firms_singular_bbc.append(firm)\n",
    "\n",
    "result_crash_risk_bbc = pd.DataFrame(result_crash_risk_bbc, columns=['exchange','company_name','time','count','nskew','duvol'])\n",
    "result_crash_risk_bbc.to_csv('./../data/result_jan_june_19.csv', index = False)"
   ]
  },
  {
   "cell_type": "code",
   "execution_count": 9,
   "metadata": {},
   "outputs": [
    {
     "data": {
      "application/vnd.jupyter.widget-view+json": {
       "model_id": "843713dc26dd4142b4da9212f4b3f14d",
       "version_major": 2,
       "version_minor": 0
      },
      "text/plain": [
       "  0%|          | 0/1384 [00:00<?, ?it/s]"
      ]
     },
     "metadata": {},
     "output_type": "display_data"
    },
    {
     "data": {
      "application/vnd.jupyter.widget-view+json": {
       "model_id": "1fbbdfecc2644d37a107d7f24da6bf8a",
       "version_major": 2,
       "version_minor": 0
      },
      "text/plain": [
       "  0%|          | 0/1121 [00:00<?, ?it/s]"
      ]
     },
     "metadata": {},
     "output_type": "display_data"
    }
   ],
   "source": [
    "result_crash_risk_bc = []\n",
    "firms_singular_bc = []\n",
    "# NSE: Before COVID\n",
    "for firm in tqdm(company_name_nse):\n",
    "    try:\n",
    "        firm_cp = firms_bc.loc[firms_bc['company_name'] == firm]['nse_closing_price']\n",
    "        market_cp = nifty50_bc['Close']\n",
    "        result = func.crash_risk(firm_cp, market_cp)\n",
    "        result_crash_risk_bc.append(('NSE', firm, 0, result[0], result[1], result[2]))\n",
    "    except:\n",
    "        firms_singular_bc.append(firm)\n",
    "\n",
    "# BSE: Before COVID\n",
    "for firm in tqdm(company_name_bse):\n",
    "    try:\n",
    "        firm_cp = firms_bc.loc[firms_bc['company_name'] == firm]['bse_closing_price']\n",
    "        market_cp = nifty50_bc['Close']\n",
    "        result = func.crash_risk(firm_cp, market_cp)\n",
    "        result_crash_risk_bc.append(('BSE', firm, 0, result[0], result[1], result[2]))\n",
    "    except:\n",
    "        firms_singular_bc.append(firm)\n",
    "\n",
    "result_crash_risk_bc = pd.DataFrame(result_crash_risk_bc, columns=['exchange','company_name','time','count','nskew','duvol'])\n",
    "# result_crash_risk_bc"
   ]
  },
  {
   "cell_type": "code",
   "execution_count": 10,
   "metadata": {},
   "outputs": [
    {
     "data": {
      "application/vnd.jupyter.widget-view+json": {
       "model_id": "bfdada98cbdc4082abfbbdd263d9dd0e",
       "version_major": 2,
       "version_minor": 0
      },
      "text/plain": [
       "  0%|          | 0/1384 [00:00<?, ?it/s]"
      ]
     },
     "metadata": {},
     "output_type": "display_data"
    },
    {
     "data": {
      "application/vnd.jupyter.widget-view+json": {
       "model_id": "0dbd42f7c95845c5bab1d97e0e0cfdde",
       "version_major": 2,
       "version_minor": 0
      },
      "text/plain": [
       "  0%|          | 0/1121 [00:00<?, ?it/s]"
      ]
     },
     "metadata": {},
     "output_type": "display_data"
    }
   ],
   "source": [
    "result_crash_risk_ac = []\n",
    "firms_singular_ac = []\n",
    "# NSE: During COVID\n",
    "for firm in tqdm(company_name_nse):\n",
    "    try:\n",
    "        firm_cp = firms_ac.loc[firms_ac['company_name'] == firm]['nse_closing_price']\n",
    "        market_cp = nifty50_ac['Close']\n",
    "        result = func.crash_risk(firm_cp, market_cp)\n",
    "        result_crash_risk_ac.append(('BSE', firm, 1, result[0], result[1], result[2]))\n",
    "    except:\n",
    "        firms_singular_ac.append(firm)\n",
    "# BSE: During COVID\n",
    "for firm in tqdm(company_name_bse):\n",
    "    try:\n",
    "        firm_cp = firms_ac.loc[firms_ac['company_name'] == firm]['bse_closing_price']\n",
    "        market_cp = nifty50_ac['Close']\n",
    "        result = func.crash_risk(firm_cp, market_cp)\n",
    "        result_crash_risk_ac.append(('BSE', firm, 1, result[0], result[1], result[2]))\n",
    "    except:\n",
    "        firms_singular_ac.append(firm)\n",
    "result_crash_risk_ac = pd.DataFrame(result_crash_risk_ac, columns=['exchange','company_name','time','count','nskew','duvol'])"
   ]
  },
  {
   "cell_type": "code",
   "execution_count": 11,
   "metadata": {},
   "outputs": [],
   "source": [
    "final_result = pd.concat([result_crash_risk_bc, result_crash_risk_ac], axis=0)\n",
    "final_result.sort_values(by = ['company_name'], inplace = True)\n",
    "final_result = final_result[~final_result['company_name'].isin(firms_singular_bc)]\n",
    "final_result = final_result[~final_result['company_name'].isin(firms_singular_ac)]"
   ]
  },
  {
   "cell_type": "code",
   "execution_count": 12,
   "metadata": {},
   "outputs": [],
   "source": [
    "banks_vulnerability['vulnerable'] = banks_vulnerability['vulnerable'].astype(int)"
   ]
  },
  {
   "cell_type": "code",
   "execution_count": 13,
   "metadata": {},
   "outputs": [
    {
     "data": {
      "text/html": [
       "<div>\n",
       "<style scoped>\n",
       "    .dataframe tbody tr th:only-of-type {\n",
       "        vertical-align: middle;\n",
       "    }\n",
       "\n",
       "    .dataframe tbody tr th {\n",
       "        vertical-align: top;\n",
       "    }\n",
       "\n",
       "    .dataframe thead th {\n",
       "        text-align: right;\n",
       "    }\n",
       "</style>\n",
       "<table border=\"1\" class=\"dataframe\">\n",
       "  <thead>\n",
       "    <tr style=\"text-align: right;\">\n",
       "      <th></th>\n",
       "      <th>symbol</th>\n",
       "      <th>banker_name</th>\n",
       "      <th>co_code</th>\n",
       "      <th>company_name</th>\n",
       "      <th>exchange</th>\n",
       "      <th>beta</th>\n",
       "      <th>mes</th>\n",
       "      <th>vulnerable</th>\n",
       "      <th>type</th>\n",
       "      <th>time</th>\n",
       "      <th>count</th>\n",
       "      <th>nskew</th>\n",
       "      <th>duvol</th>\n",
       "    </tr>\n",
       "  </thead>\n",
       "  <tbody>\n",
       "    <tr>\n",
       "      <th>0</th>\n",
       "      <td>SBIN.NS</td>\n",
       "      <td>STATE BANK OF INDIA</td>\n",
       "      <td>11</td>\n",
       "      <td>20 MICRONS LTD.</td>\n",
       "      <td>NSE</td>\n",
       "      <td>0.247401</td>\n",
       "      <td>0.001617</td>\n",
       "      <td>1</td>\n",
       "      <td>Public</td>\n",
       "      <td>0</td>\n",
       "      <td>0</td>\n",
       "      <td>-0.626466</td>\n",
       "      <td>-0.655800</td>\n",
       "    </tr>\n",
       "    <tr>\n",
       "      <th>1</th>\n",
       "      <td>SBIN.NS</td>\n",
       "      <td>STATE BANK OF INDIA</td>\n",
       "      <td>11</td>\n",
       "      <td>20 MICRONS LTD.</td>\n",
       "      <td>BSE</td>\n",
       "      <td>0.247401</td>\n",
       "      <td>0.001617</td>\n",
       "      <td>1</td>\n",
       "      <td>Public</td>\n",
       "      <td>1</td>\n",
       "      <td>-1</td>\n",
       "      <td>-0.814185</td>\n",
       "      <td>-0.664436</td>\n",
       "    </tr>\n",
       "    <tr>\n",
       "      <th>2</th>\n",
       "      <td>SBIN.NS</td>\n",
       "      <td>STATE BANK OF INDIA</td>\n",
       "      <td>576805</td>\n",
       "      <td>A &amp; M JUMBO BAGS LTD.</td>\n",
       "      <td>BSE</td>\n",
       "      <td>0.247401</td>\n",
       "      <td>0.001617</td>\n",
       "      <td>1</td>\n",
       "      <td>Public</td>\n",
       "      <td>1</td>\n",
       "      <td>0</td>\n",
       "      <td>0.187605</td>\n",
       "      <td>0.257741</td>\n",
       "    </tr>\n",
       "    <tr>\n",
       "      <th>3</th>\n",
       "      <td>SBIN.NS</td>\n",
       "      <td>STATE BANK OF INDIA</td>\n",
       "      <td>576805</td>\n",
       "      <td>A &amp; M JUMBO BAGS LTD.</td>\n",
       "      <td>NSE</td>\n",
       "      <td>0.247401</td>\n",
       "      <td>0.001617</td>\n",
       "      <td>1</td>\n",
       "      <td>Public</td>\n",
       "      <td>0</td>\n",
       "      <td>0</td>\n",
       "      <td>0.136015</td>\n",
       "      <td>0.074015</td>\n",
       "    </tr>\n",
       "    <tr>\n",
       "      <th>4</th>\n",
       "      <td>SBIN.NS</td>\n",
       "      <td>STATE BANK OF INDIA</td>\n",
       "      <td>389178</td>\n",
       "      <td>A 2 Z INFRA ENGG. LTD.</td>\n",
       "      <td>BSE</td>\n",
       "      <td>0.247401</td>\n",
       "      <td>0.001617</td>\n",
       "      <td>1</td>\n",
       "      <td>Public</td>\n",
       "      <td>1</td>\n",
       "      <td>-3</td>\n",
       "      <td>-0.763392</td>\n",
       "      <td>-0.171274</td>\n",
       "    </tr>\n",
       "  </tbody>\n",
       "</table>\n",
       "</div>"
      ],
      "text/plain": [
       "    symbol          banker_name  co_code            company_name exchange  \\\n",
       "0  SBIN.NS  STATE BANK OF INDIA       11         20 MICRONS LTD.      NSE   \n",
       "1  SBIN.NS  STATE BANK OF INDIA       11         20 MICRONS LTD.      BSE   \n",
       "2  SBIN.NS  STATE BANK OF INDIA   576805   A & M JUMBO BAGS LTD.      BSE   \n",
       "3  SBIN.NS  STATE BANK OF INDIA   576805   A & M JUMBO BAGS LTD.      NSE   \n",
       "4  SBIN.NS  STATE BANK OF INDIA   389178  A 2 Z INFRA ENGG. LTD.      BSE   \n",
       "\n",
       "       beta       mes  vulnerable    type  time  count     nskew     duvol  \n",
       "0  0.247401  0.001617           1  Public     0      0 -0.626466 -0.655800  \n",
       "1  0.247401  0.001617           1  Public     1     -1 -0.814185 -0.664436  \n",
       "2  0.247401  0.001617           1  Public     1      0  0.187605  0.257741  \n",
       "3  0.247401  0.001617           1  Public     0      0  0.136015  0.074015  \n",
       "4  0.247401  0.001617           1  Public     1     -3 -0.763392 -0.171274  "
      ]
     },
     "execution_count": 13,
     "metadata": {},
     "output_type": "execute_result"
    }
   ],
   "source": [
    "final_result = pd.merge(final_result, banks_firms_connection, on = 'company_name')\n",
    "final_result = pd.merge(final_result, banks_vulnerability, on = 'banker_name')\n",
    "final_result = final_result.loc[:,['symbol','banker_name','co_code','company_name','exchange','beta','mes','vulnerable','type','time','count','nskew','duvol']]\n",
    "final_result.head()"
   ]
  },
  {
   "cell_type": "code",
   "execution_count": 14,
   "metadata": {},
   "outputs": [
    {
     "name": "stdout",
     "output_type": "stream",
     "text": [
      "(4238, 16)\n"
     ]
    }
   ],
   "source": [
    "cr_bbc = result_crash_risk_bbc[['company_name','count','nskew','duvol']]\n",
    "cr_bbc.columns = ['company_name','ic_count','ic_nskew','ic_duvol']\n",
    "final_result = pd.merge(final_result, cr_bbc, on = 'company_name')\n",
    "final_result = final_result[~final_result['company_name'].isin(firms_singular_bbc)]\n",
    "print(final_result.shape)"
   ]
  },
  {
   "cell_type": "code",
   "execution_count": 15,
   "metadata": {},
   "outputs": [],
   "source": [
    "final_result.dropna(inplace = True)"
   ]
  },
  {
   "cell_type": "code",
   "execution_count": 16,
   "metadata": {},
   "outputs": [],
   "source": [
    "final_result.to_csv('./../data/final_table.csv', index = False)"
   ]
  },
  {
   "cell_type": "code",
   "execution_count": 18,
   "metadata": {},
   "outputs": [
    {
     "data": {
      "text/plain": [
       "symbol          0\n",
       "banker_name     0\n",
       "co_code         0\n",
       "company_name    0\n",
       "exchange        0\n",
       "beta            0\n",
       "mes             0\n",
       "vulnerable      0\n",
       "type            0\n",
       "time            0\n",
       "count           0\n",
       "nskew           0\n",
       "duvol           0\n",
       "ic_count        0\n",
       "ic_nskew        0\n",
       "ic_duvol        0\n",
       "dtype: int64"
      ]
     },
     "execution_count": 18,
     "metadata": {},
     "output_type": "execute_result"
    }
   ],
   "source": [
    "np.sum(final_result == np.nan)"
   ]
  },
  {
   "cell_type": "code",
   "execution_count": 19,
   "metadata": {},
   "outputs": [
    {
     "data": {
      "text/plain": [
       "(4180, 16)"
      ]
     },
     "execution_count": 19,
     "metadata": {},
     "output_type": "execute_result"
    }
   ],
   "source": [
    "final_result.shape"
   ]
  },
  {
   "cell_type": "code",
   "execution_count": null,
   "metadata": {},
   "outputs": [],
   "source": []
  }
 ],
 "metadata": {
  "kernelspec": {
   "display_name": "base",
   "language": "python",
   "name": "python3"
  },
  "language_info": {
   "codemirror_mode": {
    "name": "ipython",
    "version": 3
   },
   "file_extension": ".py",
   "mimetype": "text/x-python",
   "name": "python",
   "nbconvert_exporter": "python",
   "pygments_lexer": "ipython3",
   "version": "3.9.13 (main, Aug 25 2022, 23:51:50) [MSC v.1916 64 bit (AMD64)]"
  },
  "orig_nbformat": 4,
  "vscode": {
   "interpreter": {
    "hash": "dc07d24e2f18896857f0b2a651fe84ba40ce7b297e58d8804a308c8039f752a6"
   }
  }
 },
 "nbformat": 4,
 "nbformat_minor": 2
}
