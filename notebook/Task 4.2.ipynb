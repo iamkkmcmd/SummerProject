{
 "cells": [
  {
   "cell_type": "markdown",
   "metadata": {},
   "source": [
    "## Task 4.2\n",
    "\n",
    "- Explore the mapping data"
   ]
  },
  {
   "cell_type": "code",
   "execution_count": 1,
   "metadata": {},
   "outputs": [],
   "source": [
    "import os, sys, copy, time\n",
    "from tqdm.notebook import tqdm\n",
    "import numpy as np\n",
    "import pandas as pd\n",
    "import matplotlib.pyplot as plt\n",
    "import seaborn as sns\n",
    "import warnings\n",
    "warnings.filterwarnings('ignore')"
   ]
  },
  {
   "cell_type": "code",
   "execution_count": 2,
   "metadata": {},
   "outputs": [],
   "source": [
    "os.chdir('./../map_data/')"
   ]
  },
  {
   "cell_type": "code",
   "execution_count": 3,
   "metadata": {},
   "outputs": [
    {
     "name": "stdout",
     "output_type": "stream",
     "text": [
      "Shape of the mapped data is (1738585, 23)\n"
     ]
    },
    {
     "data": {
      "text/html": [
       "<div>\n",
       "<style scoped>\n",
       "    .dataframe tbody tr th:only-of-type {\n",
       "        vertical-align: middle;\n",
       "    }\n",
       "\n",
       "    .dataframe tbody tr th {\n",
       "        vertical-align: top;\n",
       "    }\n",
       "\n",
       "    .dataframe thead th {\n",
       "        text-align: right;\n",
       "    }\n",
       "</style>\n",
       "<table border=\"1\" class=\"dataframe\">\n",
       "  <thead>\n",
       "    <tr style=\"text-align: right;\">\n",
       "      <th></th>\n",
       "      <th>co_code</th>\n",
       "      <th>company_name</th>\n",
       "      <th>co_stkdate</th>\n",
       "      <th>bse_opening_price</th>\n",
       "      <th>bse_high_price</th>\n",
       "      <th>bse_low_price</th>\n",
       "      <th>bse_closing_price</th>\n",
       "      <th>bse_returns</th>\n",
       "      <th>bse_traded_qty</th>\n",
       "      <th>bse_traded_val</th>\n",
       "      <th>...</th>\n",
       "      <th>nse_opening_price</th>\n",
       "      <th>nse_high_price</th>\n",
       "      <th>nse_low_price</th>\n",
       "      <th>nse_closing_price</th>\n",
       "      <th>nse_returns</th>\n",
       "      <th>nse_traded_qty</th>\n",
       "      <th>nse_traded_val</th>\n",
       "      <th>nse_no_of_trans</th>\n",
       "      <th>nse_market_cap</th>\n",
       "      <th>nse_pb</th>\n",
       "    </tr>\n",
       "  </thead>\n",
       "  <tbody>\n",
       "    <tr>\n",
       "      <th>0</th>\n",
       "      <td>100044</td>\n",
       "      <td>INDUCTO STEEL LTD.</td>\n",
       "      <td>02-04-2018</td>\n",
       "      <td>23.70</td>\n",
       "      <td>23.70</td>\n",
       "      <td>23.70</td>\n",
       "      <td>23.70</td>\n",
       "      <td>1.05</td>\n",
       "      <td>4.0</td>\n",
       "      <td>0.0</td>\n",
       "      <td>...</td>\n",
       "      <td>NaN</td>\n",
       "      <td>NaN</td>\n",
       "      <td>NaN</td>\n",
       "      <td>NaN</td>\n",
       "      <td>NaN</td>\n",
       "      <td>NaN</td>\n",
       "      <td>NaN</td>\n",
       "      <td>NaN</td>\n",
       "      <td>NaN</td>\n",
       "      <td>NaN</td>\n",
       "    </tr>\n",
       "    <tr>\n",
       "      <th>1</th>\n",
       "      <td>100044</td>\n",
       "      <td>INDUCTO STEEL LTD.</td>\n",
       "      <td>04-04-2018</td>\n",
       "      <td>22.55</td>\n",
       "      <td>22.55</td>\n",
       "      <td>22.55</td>\n",
       "      <td>22.55</td>\n",
       "      <td>0.95</td>\n",
       "      <td>200.0</td>\n",
       "      <td>0.0</td>\n",
       "      <td>...</td>\n",
       "      <td>NaN</td>\n",
       "      <td>NaN</td>\n",
       "      <td>NaN</td>\n",
       "      <td>NaN</td>\n",
       "      <td>NaN</td>\n",
       "      <td>NaN</td>\n",
       "      <td>NaN</td>\n",
       "      <td>NaN</td>\n",
       "      <td>NaN</td>\n",
       "      <td>NaN</td>\n",
       "    </tr>\n",
       "    <tr>\n",
       "      <th>2</th>\n",
       "      <td>100044</td>\n",
       "      <td>INDUCTO STEEL LTD.</td>\n",
       "      <td>05-04-2018</td>\n",
       "      <td>23.65</td>\n",
       "      <td>23.65</td>\n",
       "      <td>23.65</td>\n",
       "      <td>23.65</td>\n",
       "      <td>1.05</td>\n",
       "      <td>235.0</td>\n",
       "      <td>0.0</td>\n",
       "      <td>...</td>\n",
       "      <td>NaN</td>\n",
       "      <td>NaN</td>\n",
       "      <td>NaN</td>\n",
       "      <td>NaN</td>\n",
       "      <td>NaN</td>\n",
       "      <td>NaN</td>\n",
       "      <td>NaN</td>\n",
       "      <td>NaN</td>\n",
       "      <td>NaN</td>\n",
       "      <td>NaN</td>\n",
       "    </tr>\n",
       "    <tr>\n",
       "      <th>3</th>\n",
       "      <td>100044</td>\n",
       "      <td>INDUCTO STEEL LTD.</td>\n",
       "      <td>06-04-2018</td>\n",
       "      <td>24.80</td>\n",
       "      <td>24.80</td>\n",
       "      <td>24.80</td>\n",
       "      <td>24.80</td>\n",
       "      <td>1.05</td>\n",
       "      <td>135.0</td>\n",
       "      <td>0.0</td>\n",
       "      <td>...</td>\n",
       "      <td>NaN</td>\n",
       "      <td>NaN</td>\n",
       "      <td>NaN</td>\n",
       "      <td>NaN</td>\n",
       "      <td>NaN</td>\n",
       "      <td>NaN</td>\n",
       "      <td>NaN</td>\n",
       "      <td>NaN</td>\n",
       "      <td>NaN</td>\n",
       "      <td>NaN</td>\n",
       "    </tr>\n",
       "    <tr>\n",
       "      <th>4</th>\n",
       "      <td>100044</td>\n",
       "      <td>INDUCTO STEEL LTD.</td>\n",
       "      <td>09-04-2018</td>\n",
       "      <td>26.00</td>\n",
       "      <td>26.00</td>\n",
       "      <td>26.00</td>\n",
       "      <td>26.00</td>\n",
       "      <td>1.05</td>\n",
       "      <td>502.0</td>\n",
       "      <td>0.0</td>\n",
       "      <td>...</td>\n",
       "      <td>NaN</td>\n",
       "      <td>NaN</td>\n",
       "      <td>NaN</td>\n",
       "      <td>NaN</td>\n",
       "      <td>NaN</td>\n",
       "      <td>NaN</td>\n",
       "      <td>NaN</td>\n",
       "      <td>NaN</td>\n",
       "      <td>NaN</td>\n",
       "      <td>NaN</td>\n",
       "    </tr>\n",
       "  </tbody>\n",
       "</table>\n",
       "<p>5 rows × 23 columns</p>\n",
       "</div>"
      ],
      "text/plain": [
       "   co_code        company_name  co_stkdate  bse_opening_price  bse_high_price  \\\n",
       "0   100044  INDUCTO STEEL LTD.  02-04-2018              23.70           23.70   \n",
       "1   100044  INDUCTO STEEL LTD.  04-04-2018              22.55           22.55   \n",
       "2   100044  INDUCTO STEEL LTD.  05-04-2018              23.65           23.65   \n",
       "3   100044  INDUCTO STEEL LTD.  06-04-2018              24.80           24.80   \n",
       "4   100044  INDUCTO STEEL LTD.  09-04-2018              26.00           26.00   \n",
       "\n",
       "   bse_low_price  bse_closing_price  bse_returns  bse_traded_qty  \\\n",
       "0          23.70              23.70         1.05             4.0   \n",
       "1          22.55              22.55         0.95           200.0   \n",
       "2          23.65              23.65         1.05           235.0   \n",
       "3          24.80              24.80         1.05           135.0   \n",
       "4          26.00              26.00         1.05           502.0   \n",
       "\n",
       "   bse_traded_val  ...  nse_opening_price  nse_high_price  nse_low_price  \\\n",
       "0             0.0  ...                NaN             NaN            NaN   \n",
       "1             0.0  ...                NaN             NaN            NaN   \n",
       "2             0.0  ...                NaN             NaN            NaN   \n",
       "3             0.0  ...                NaN             NaN            NaN   \n",
       "4             0.0  ...                NaN             NaN            NaN   \n",
       "\n",
       "   nse_closing_price  nse_returns  nse_traded_qty  nse_traded_val  \\\n",
       "0                NaN          NaN             NaN             NaN   \n",
       "1                NaN          NaN             NaN             NaN   \n",
       "2                NaN          NaN             NaN             NaN   \n",
       "3                NaN          NaN             NaN             NaN   \n",
       "4                NaN          NaN             NaN             NaN   \n",
       "\n",
       "   nse_no_of_trans  nse_market_cap  nse_pb  \n",
       "0              NaN             NaN     NaN  \n",
       "1              NaN             NaN     NaN  \n",
       "2              NaN             NaN     NaN  \n",
       "3              NaN             NaN     NaN  \n",
       "4              NaN             NaN     NaN  \n",
       "\n",
       "[5 rows x 23 columns]"
      ]
     },
     "execution_count": 3,
     "metadata": {},
     "output_type": "execute_result"
    }
   ],
   "source": [
    "# load the data\n",
    "map_data = pd.read_table('./76692_1_120_20221207_125235_dat.txt', sep = '|')\n",
    "print('Shape of the mapped data is', map_data.shape)\n",
    "map_data.head()"
   ]
  },
  {
   "cell_type": "code",
   "execution_count": 4,
   "metadata": {},
   "outputs": [
    {
     "data": {
      "text/plain": [
       "3413"
      ]
     },
     "execution_count": 4,
     "metadata": {},
     "output_type": "execute_result"
    }
   ],
   "source": [
    "# Number of firms(companies)\n",
    "map_data['company_name'].nunique()"
   ]
  },
  {
   "cell_type": "code",
   "execution_count": 5,
   "metadata": {},
   "outputs": [
    {
     "name": "stdout",
     "output_type": "stream",
     "text": [
      "Shape of the mapped data is (1738585, 7)\n"
     ]
    },
    {
     "data": {
      "text/html": [
       "<div>\n",
       "<style scoped>\n",
       "    .dataframe tbody tr th:only-of-type {\n",
       "        vertical-align: middle;\n",
       "    }\n",
       "\n",
       "    .dataframe tbody tr th {\n",
       "        vertical-align: top;\n",
       "    }\n",
       "\n",
       "    .dataframe thead th {\n",
       "        text-align: right;\n",
       "    }\n",
       "</style>\n",
       "<table border=\"1\" class=\"dataframe\">\n",
       "  <thead>\n",
       "    <tr style=\"text-align: right;\">\n",
       "      <th></th>\n",
       "      <th>co_code</th>\n",
       "      <th>company_name</th>\n",
       "      <th>co_stkdate</th>\n",
       "      <th>bse_closing_price</th>\n",
       "      <th>bse_returns</th>\n",
       "      <th>nse_closing_price</th>\n",
       "      <th>nse_returns</th>\n",
       "    </tr>\n",
       "  </thead>\n",
       "  <tbody>\n",
       "    <tr>\n",
       "      <th>0</th>\n",
       "      <td>100044</td>\n",
       "      <td>INDUCTO STEEL LTD.</td>\n",
       "      <td>02-04-2018</td>\n",
       "      <td>23.70</td>\n",
       "      <td>1.05</td>\n",
       "      <td>NaN</td>\n",
       "      <td>NaN</td>\n",
       "    </tr>\n",
       "    <tr>\n",
       "      <th>1</th>\n",
       "      <td>100044</td>\n",
       "      <td>INDUCTO STEEL LTD.</td>\n",
       "      <td>04-04-2018</td>\n",
       "      <td>22.55</td>\n",
       "      <td>0.95</td>\n",
       "      <td>NaN</td>\n",
       "      <td>NaN</td>\n",
       "    </tr>\n",
       "    <tr>\n",
       "      <th>2</th>\n",
       "      <td>100044</td>\n",
       "      <td>INDUCTO STEEL LTD.</td>\n",
       "      <td>05-04-2018</td>\n",
       "      <td>23.65</td>\n",
       "      <td>1.05</td>\n",
       "      <td>NaN</td>\n",
       "      <td>NaN</td>\n",
       "    </tr>\n",
       "    <tr>\n",
       "      <th>3</th>\n",
       "      <td>100044</td>\n",
       "      <td>INDUCTO STEEL LTD.</td>\n",
       "      <td>06-04-2018</td>\n",
       "      <td>24.80</td>\n",
       "      <td>1.05</td>\n",
       "      <td>NaN</td>\n",
       "      <td>NaN</td>\n",
       "    </tr>\n",
       "    <tr>\n",
       "      <th>4</th>\n",
       "      <td>100044</td>\n",
       "      <td>INDUCTO STEEL LTD.</td>\n",
       "      <td>09-04-2018</td>\n",
       "      <td>26.00</td>\n",
       "      <td>1.05</td>\n",
       "      <td>NaN</td>\n",
       "      <td>NaN</td>\n",
       "    </tr>\n",
       "  </tbody>\n",
       "</table>\n",
       "</div>"
      ],
      "text/plain": [
       "   co_code        company_name  co_stkdate  bse_closing_price  bse_returns  \\\n",
       "0   100044  INDUCTO STEEL LTD.  02-04-2018              23.70         1.05   \n",
       "1   100044  INDUCTO STEEL LTD.  04-04-2018              22.55         0.95   \n",
       "2   100044  INDUCTO STEEL LTD.  05-04-2018              23.65         1.05   \n",
       "3   100044  INDUCTO STEEL LTD.  06-04-2018              24.80         1.05   \n",
       "4   100044  INDUCTO STEEL LTD.  09-04-2018              26.00         1.05   \n",
       "\n",
       "   nse_closing_price  nse_returns  \n",
       "0                NaN          NaN  \n",
       "1                NaN          NaN  \n",
       "2                NaN          NaN  \n",
       "3                NaN          NaN  \n",
       "4                NaN          NaN  "
      ]
     },
     "execution_count": 5,
     "metadata": {},
     "output_type": "execute_result"
    }
   ],
   "source": [
    "# Necessary variables: co_code, company_name, co_stkdate, \n",
    "# bse_closing_price, bse_returns, nse_closing_price, nse_returns, \n",
    "map_data = map_data[['co_code', 'company_name', 'co_stkdate', 'bse_closing_price', 'bse_returns', 'nse_closing_price', 'nse_returns']]\n",
    "print('Shape of the mapped data is', map_data.shape)\n",
    "map_data.head()"
   ]
  },
  {
   "cell_type": "code",
   "execution_count": 6,
   "metadata": {},
   "outputs": [],
   "source": [
    "# stockdate should be in datetime format\n",
    "map_data['co_stkdate'] = pd.to_datetime(map_data['co_stkdate'], format = \"%d-%m-%Y\", )"
   ]
  },
  {
   "cell_type": "code",
   "execution_count": 7,
   "metadata": {},
   "outputs": [
    {
     "name": "stdout",
     "output_type": "stream",
     "text": [
      "<class 'pandas.core.frame.DataFrame'>\n",
      "RangeIndex: 1738585 entries, 0 to 1738584\n",
      "Data columns (total 7 columns):\n",
      " #   Column             Dtype         \n",
      "---  ------             -----         \n",
      " 0   co_code            int64         \n",
      " 1   company_name       object        \n",
      " 2   co_stkdate         datetime64[ns]\n",
      " 3   bse_closing_price  float64       \n",
      " 4   bse_returns        float64       \n",
      " 5   nse_closing_price  float64       \n",
      " 6   nse_returns        float64       \n",
      "dtypes: datetime64[ns](1), float64(4), int64(1), object(1)\n",
      "memory usage: 92.9+ MB\n"
     ]
    }
   ],
   "source": [
    "# check the info of the data\n",
    "# map_data.info()"
   ]
  },
  {
   "cell_type": "code",
   "execution_count": 8,
   "metadata": {},
   "outputs": [],
   "source": [
    "# Data may be sorted, sort by company_name and stock date column \n",
    "map_data.sort_values(by = ['company_name', 'co_stkdate'], ascending = True, inplace = True)\n",
    "# Take only necessary columns\n",
    "map_data = map_data[['co_code','company_name','co_stkdate','bse_closing_price','nse_closing_price']]"
   ]
  },
  {
   "cell_type": "markdown",
   "metadata": {},
   "source": [
    "## Partitioned the data into two time frames:"
   ]
  },
  {
   "cell_type": "code",
   "execution_count": 9,
   "metadata": {},
   "outputs": [
    {
     "name": "stderr",
     "output_type": "stream",
     "text": [
      "C:\\Users\\System Administrator\\AppData\\Local\\Temp\\ipykernel_10088\\152029358.py:4: SettingWithCopyWarning: \n",
      "A value is trying to be set on a copy of a slice from a DataFrame\n",
      "\n",
      "See the caveats in the documentation: https://pandas.pydata.org/pandas-docs/stable/user_guide/indexing.html#returning-a-view-versus-a-copy\n",
      "  map_data_before_before_covid.sort_values(by = ['co_code','company_name', 'co_stkdate'], ascending = True, inplace = True)\n"
     ]
    }
   ],
   "source": [
    "# Before of before COVID\n",
    "map_data_before_before_covid = map_data.loc[(map_data['co_stkdate'] >= '2019-01-01') & (map_data['co_stkdate'] <= '2019-06-30')]\n",
    "map_data_before_before_covid.sort_values(by = ['co_code','company_name', 'co_stkdate'], ascending = True, inplace = True)\n",
    "map_data_before_before_covid.reset_index(level = -1, drop = True, inplace = True)\n",
    "map_data_before_before_covid.to_csv('./../data/map_data_before_before_covid.csv')\n"
   ]
  },
  {
   "cell_type": "code",
   "execution_count": 11,
   "metadata": {},
   "outputs": [
    {
     "name": "stderr",
     "output_type": "stream",
     "text": [
      "C:\\Users\\System Administrator\\AppData\\Local\\Temp\\ipykernel_5008\\3711646600.py:3: SettingWithCopyWarning: \n",
      "A value is trying to be set on a copy of a slice from a DataFrame\n",
      "\n",
      "See the caveats in the documentation: https://pandas.pydata.org/pandas-docs/stable/user_guide/indexing.html#returning-a-view-versus-a-copy\n",
      "  map_data_before_covid.sort_values(by = ['co_code','company_name', 'co_stkdate'], ascending = True, inplace = True)\n"
     ]
    }
   ],
   "source": [
    "map_data_before_covid = map_data.loc[(map_data['co_stkdate'] >= '2019-07-01') & (map_data['co_stkdate'] <= '2019-12-31')]\n",
    "map_data_before_covid.sort_values(by = ['co_code','company_name', 'co_stkdate'], ascending = True, inplace = True)\n",
    "map_data_before_covid.reset_index(level = -1, drop = True, inplace = True)\n",
    "map_data_before_covid.to_csv('./../data/map_data_before_covid.csv')\n"
   ]
  },
  {
   "cell_type": "code",
   "execution_count": 12,
   "metadata": {},
   "outputs": [
    {
     "name": "stderr",
     "output_type": "stream",
     "text": [
      "C:\\Users\\System Administrator\\AppData\\Local\\Temp\\ipykernel_5008\\2885360529.py:3: SettingWithCopyWarning: \n",
      "A value is trying to be set on a copy of a slice from a DataFrame\n",
      "\n",
      "See the caveats in the documentation: https://pandas.pydata.org/pandas-docs/stable/user_guide/indexing.html#returning-a-view-versus-a-copy\n",
      "  map_data_after_covid.sort_values(by = ['company_name', 'co_stkdate'], ascending = True, inplace = True)\n"
     ]
    }
   ],
   "source": [
    "map_data_after_covid = map_data.loc[(map_data['co_stkdate'] >= '2020-01-01') & (map_data['co_stkdate'] <= '2020-06-30')]\n",
    "map_data_after_covid.sort_values(by = ['company_name', 'co_stkdate'], ascending = True, inplace = True)\n",
    "map_data_after_covid.reset_index(level = -1, drop = True, inplace = True)\n",
    "map_data_after_covid.to_csv('./../data/map_data_after_covid.csv')"
   ]
  },
  {
   "cell_type": "code",
   "execution_count": 51,
   "metadata": {},
   "outputs": [
    {
     "data": {
      "image/png": "[encoded data removed]",
      "text/plain": [
       "<Figure size 432x288 with 1 Axes>"
      ]
     },
     "metadata": {
      "needs_background": "light"
     },
     "output_type": "display_data"
    }
   ],
   "source": [
    "# # Are all firms have same amount of stock data?\n",
    "# c_stkdata = map_data_before_covid.groupby(by = ['company_name'])['co_stkdate'].count()\n",
    "# c_stkdata = c_stkdata.reset_index()\n",
    "# c_stkdata.sort_values(by = ['co_stkdate'], inplace=True)\n",
    "# # No, all firms don't have same number of stock data\n",
    "# sns.barplot(x = 'company_name', y = 'co_stkdate', \n",
    "#             data = c_stkdata.reset_index())\n",
    "# plt.xticks(rotation=90);"
   ]
  },
  {
   "cell_type": "code",
   "execution_count": 52,
   "metadata": {},
   "outputs": [
    {
     "data": {
      "image/png": "[encoded data removed]",
      "text/plain": [
       "<Figure size 432x288 with 1 Axes>"
      ]
     },
     "metadata": {
      "needs_background": "light"
     },
     "output_type": "display_data"
    }
   ],
   "source": [
    "# # Are all firms have same amount of stock data?\n",
    "# c_stkdata = map_data_after_covid.groupby(by = ['company_name'])['co_stkdate'].count()\n",
    "# c_stkdata = c_stkdata.reset_index()\n",
    "# c_stkdata.sort_values(by = ['co_stkdate'], inplace=True)\n",
    "# # No, all firms don't have same number of stock data\n",
    "# sns.barplot(x = 'company_name', y = 'co_stkdate', \n",
    "#             data = c_stkdata.reset_index())\n",
    "# plt.xticks(rotation=90);"
   ]
  },
  {
   "cell_type": "markdown",
   "metadata": {},
   "source": [
    "Before further proceed, we want to make some assumptions:\n",
    "- We can ignore some companies, who does have less day data.\n",
    "- Others"
   ]
  },
  {
   "cell_type": "code",
   "execution_count": 13,
   "metadata": {},
   "outputs": [
    {
     "data": {
      "text/html": [
       "<div>\n",
       "<style scoped>\n",
       "    .dataframe tbody tr th:only-of-type {\n",
       "        vertical-align: middle;\n",
       "    }\n",
       "\n",
       "    .dataframe tbody tr th {\n",
       "        vertical-align: top;\n",
       "    }\n",
       "\n",
       "    .dataframe thead th {\n",
       "        text-align: right;\n",
       "    }\n",
       "</style>\n",
       "<table border=\"1\" class=\"dataframe\">\n",
       "  <thead>\n",
       "    <tr style=\"text-align: right;\">\n",
       "      <th></th>\n",
       "      <th>company_name</th>\n",
       "      <th>co_stkdate</th>\n",
       "    </tr>\n",
       "  </thead>\n",
       "  <tbody>\n",
       "    <tr>\n",
       "      <th>0</th>\n",
       "      <td>3P LAND HOLDINGS LTD.</td>\n",
       "      <td>41</td>\n",
       "    </tr>\n",
       "    <tr>\n",
       "      <th>1</th>\n",
       "      <td>52 WEEKS ENTERTAINMENT LTD.</td>\n",
       "      <td>640</td>\n",
       "    </tr>\n",
       "    <tr>\n",
       "      <th>2</th>\n",
       "      <td>7NR RETAIL LTD.</td>\n",
       "      <td>505</td>\n",
       "    </tr>\n",
       "    <tr>\n",
       "      <th>3</th>\n",
       "      <td>7SEAS ENTERTAINMENT LTD.</td>\n",
       "      <td>190</td>\n",
       "    </tr>\n",
       "    <tr>\n",
       "      <th>4</th>\n",
       "      <td>A &amp; M FEBCON LTD.</td>\n",
       "      <td>487</td>\n",
       "    </tr>\n",
       "    <tr>\n",
       "      <th>...</th>\n",
       "      <td>...</td>\n",
       "      <td>...</td>\n",
       "    </tr>\n",
       "    <tr>\n",
       "      <th>2096</th>\n",
       "      <td>ZENITH STEEL PIPES &amp; INDS. LTD.</td>\n",
       "      <td>5</td>\n",
       "    </tr>\n",
       "    <tr>\n",
       "      <th>2097</th>\n",
       "      <td>ZENLABS ETHICA LTD.</td>\n",
       "      <td>690</td>\n",
       "    </tr>\n",
       "    <tr>\n",
       "      <th>2098</th>\n",
       "      <td>ZIM LABORATORIES LTD.</td>\n",
       "      <td>679</td>\n",
       "    </tr>\n",
       "    <tr>\n",
       "      <th>2099</th>\n",
       "      <td>ZODIAC VENTURES LTD.</td>\n",
       "      <td>383</td>\n",
       "    </tr>\n",
       "    <tr>\n",
       "      <th>2100</th>\n",
       "      <td>ZODIAC-JRD-MKJ LTD.</td>\n",
       "      <td>7</td>\n",
       "    </tr>\n",
       "  </tbody>\n",
       "</table>\n",
       "<p>2101 rows × 2 columns</p>\n",
       "</div>"
      ],
      "text/plain": [
       "                         company_name  co_stkdate\n",
       "0               3P LAND HOLDINGS LTD.          41\n",
       "1         52 WEEKS ENTERTAINMENT LTD.         640\n",
       "2                     7NR RETAIL LTD.         505\n",
       "3            7SEAS ENTERTAINMENT LTD.         190\n",
       "4                   A & M FEBCON LTD.         487\n",
       "...                               ...         ...\n",
       "2096  ZENITH STEEL PIPES & INDS. LTD.           5\n",
       "2097              ZENLABS ETHICA LTD.         690\n",
       "2098            ZIM LABORATORIES LTD.         679\n",
       "2099             ZODIAC VENTURES LTD.         383\n",
       "2100              ZODIAC-JRD-MKJ LTD.           7\n",
       "\n",
       "[2101 rows x 2 columns]"
      ]
     },
     "execution_count": 13,
     "metadata": {},
     "output_type": "execute_result"
    }
   ],
   "source": [
    "# Lets find which firms do not have NSE data\n",
    "null_nse = map_data[pd.isnull(map_data['nse_closing_price'])]\n",
    "null_nse_firms = null_nse.groupby(by = ['company_name'])['co_stkdate'].count()\n",
    "null_nse_firms = null_nse_firms.reset_index()\n",
    "null_nse_firms"
   ]
  },
  {
   "cell_type": "code",
   "execution_count": 14,
   "metadata": {},
   "outputs": [
    {
     "data": {
      "text/html": [
       "<div>\n",
       "<style scoped>\n",
       "    .dataframe tbody tr th:only-of-type {\n",
       "        vertical-align: middle;\n",
       "    }\n",
       "\n",
       "    .dataframe tbody tr th {\n",
       "        vertical-align: top;\n",
       "    }\n",
       "\n",
       "    .dataframe thead th {\n",
       "        text-align: right;\n",
       "    }\n",
       "</style>\n",
       "<table border=\"1\" class=\"dataframe\">\n",
       "  <thead>\n",
       "    <tr style=\"text-align: right;\">\n",
       "      <th></th>\n",
       "      <th>company_name</th>\n",
       "      <th>co_stkdate</th>\n",
       "    </tr>\n",
       "  </thead>\n",
       "  <tbody>\n",
       "    <tr>\n",
       "      <th>0</th>\n",
       "      <td>20 MICRONS LTD.</td>\n",
       "      <td>1</td>\n",
       "    </tr>\n",
       "    <tr>\n",
       "      <th>1</th>\n",
       "      <td>3M INDIA LTD.</td>\n",
       "      <td>1</td>\n",
       "    </tr>\n",
       "    <tr>\n",
       "      <th>2</th>\n",
       "      <td>3P LAND HOLDINGS LTD.</td>\n",
       "      <td>258</td>\n",
       "    </tr>\n",
       "    <tr>\n",
       "      <th>3</th>\n",
       "      <td>5PAISA CAPITAL LTD.</td>\n",
       "      <td>10</td>\n",
       "    </tr>\n",
       "    <tr>\n",
       "      <th>4</th>\n",
       "      <td>A &amp; M JUMBO BAGS LTD.</td>\n",
       "      <td>364</td>\n",
       "    </tr>\n",
       "    <tr>\n",
       "      <th>...</th>\n",
       "      <td>...</td>\n",
       "      <td>...</td>\n",
       "    </tr>\n",
       "    <tr>\n",
       "      <th>836</th>\n",
       "      <td>ZICOM ELECTRONIC SECURITY SYSTEMS LTD.</td>\n",
       "      <td>52</td>\n",
       "    </tr>\n",
       "    <tr>\n",
       "      <th>837</th>\n",
       "      <td>ZODIAC CLOTHING CO. LTD.</td>\n",
       "      <td>35</td>\n",
       "    </tr>\n",
       "    <tr>\n",
       "      <th>838</th>\n",
       "      <td>ZODIAC ENERGY LTD.</td>\n",
       "      <td>388</td>\n",
       "    </tr>\n",
       "    <tr>\n",
       "      <th>839</th>\n",
       "      <td>ZODIAC-JRD-MKJ LTD.</td>\n",
       "      <td>125</td>\n",
       "    </tr>\n",
       "    <tr>\n",
       "      <th>840</th>\n",
       "      <td>ZOTA HEALTH CARE LTD.</td>\n",
       "      <td>744</td>\n",
       "    </tr>\n",
       "  </tbody>\n",
       "</table>\n",
       "<p>841 rows × 2 columns</p>\n",
       "</div>"
      ],
      "text/plain": [
       "                               company_name  co_stkdate\n",
       "0                           20 MICRONS LTD.           1\n",
       "1                             3M INDIA LTD.           1\n",
       "2                     3P LAND HOLDINGS LTD.         258\n",
       "3                       5PAISA CAPITAL LTD.          10\n",
       "4                     A & M JUMBO BAGS LTD.         364\n",
       "..                                      ...         ...\n",
       "836  ZICOM ELECTRONIC SECURITY SYSTEMS LTD.          52\n",
       "837                ZODIAC CLOTHING CO. LTD.          35\n",
       "838                      ZODIAC ENERGY LTD.         388\n",
       "839                     ZODIAC-JRD-MKJ LTD.         125\n",
       "840                   ZOTA HEALTH CARE LTD.         744\n",
       "\n",
       "[841 rows x 2 columns]"
      ]
     },
     "execution_count": 14,
     "metadata": {},
     "output_type": "execute_result"
    }
   ],
   "source": [
    "null_bse = map_data[pd.isnull(map_data['bse_closing_price'])]\n",
    "null_bse_firms = null_bse.groupby(by = ['company_name'])['co_stkdate'].count()\n",
    "null_bse_firms = null_bse_firms.reset_index()\n",
    "null_bse_firms"
   ]
  },
  {
   "cell_type": "code",
   "execution_count": 15,
   "metadata": {},
   "outputs": [
    {
     "data": {
      "text/plain": [
       "co_code                   0\n",
       "company_name              0\n",
       "co_stkdate                0\n",
       "bse_closing_price    107881\n",
       "nse_closing_price    750682\n",
       "dtype: int64"
      ]
     },
     "execution_count": 15,
     "metadata": {},
     "output_type": "execute_result"
    }
   ],
   "source": [
    "map_data.isnull().sum()"
   ]
  },
  {
   "cell_type": "code",
   "execution_count": 17,
   "metadata": {},
   "outputs": [
    {
     "data": {
      "text/plain": [
       "321.0"
      ]
     },
     "execution_count": 17,
     "metadata": {},
     "output_type": "execute_result"
    }
   ],
   "source": [
    "# There are total 1779 firms who has atleast one null values for nse\n",
    "# There are total 740 firms who has atleast one null values for bse\n",
    "# Now we need to decide a thresold of null values to choose the data \n",
    "# from which stock-exchange. (Our priority is NSE)\n",
    "np.quantile(null_nse_firms['co_stkdate'], q = 0.5)"
   ]
  },
  {
   "cell_type": "code",
   "execution_count": 18,
   "metadata": {},
   "outputs": [
    {
     "data": {
      "text/html": [
       "<div>\n",
       "<style scoped>\n",
       "    .dataframe tbody tr th:only-of-type {\n",
       "        vertical-align: middle;\n",
       "    }\n",
       "\n",
       "    .dataframe tbody tr th {\n",
       "        vertical-align: top;\n",
       "    }\n",
       "\n",
       "    .dataframe thead th {\n",
       "        text-align: right;\n",
       "    }\n",
       "</style>\n",
       "<table border=\"1\" class=\"dataframe\">\n",
       "  <thead>\n",
       "    <tr style=\"text-align: right;\">\n",
       "      <th></th>\n",
       "      <th>company_name</th>\n",
       "      <th>co_stkdate</th>\n",
       "    </tr>\n",
       "  </thead>\n",
       "  <tbody>\n",
       "    <tr>\n",
       "      <th>0</th>\n",
       "      <td>3P LAND HOLDINGS LTD.</td>\n",
       "      <td>41</td>\n",
       "    </tr>\n",
       "    <tr>\n",
       "      <th>5</th>\n",
       "      <td>A A R COMMERCIAL CO. LTD. [MERGED]</td>\n",
       "      <td>6</td>\n",
       "    </tr>\n",
       "    <tr>\n",
       "      <th>8</th>\n",
       "      <td>A C E EDUTREND LTD.</td>\n",
       "      <td>137</td>\n",
       "    </tr>\n",
       "    <tr>\n",
       "      <th>16</th>\n",
       "      <td>A K I INDIA LTD.</td>\n",
       "      <td>94</td>\n",
       "    </tr>\n",
       "    <tr>\n",
       "      <th>17</th>\n",
       "      <td>A K M LACE &amp; EMBROTEX LTD.</td>\n",
       "      <td>19</td>\n",
       "    </tr>\n",
       "    <tr>\n",
       "      <th>...</th>\n",
       "      <td>...</td>\n",
       "      <td>...</td>\n",
       "    </tr>\n",
       "    <tr>\n",
       "      <th>2088</th>\n",
       "      <td>YUG DECOR LTD.</td>\n",
       "      <td>109</td>\n",
       "    </tr>\n",
       "    <tr>\n",
       "      <th>2090</th>\n",
       "      <td>YURANUS INFRASTRUCTURE LTD.</td>\n",
       "      <td>104</td>\n",
       "    </tr>\n",
       "    <tr>\n",
       "      <th>2094</th>\n",
       "      <td>ZENITH EXPORTS LTD.</td>\n",
       "      <td>6</td>\n",
       "    </tr>\n",
       "    <tr>\n",
       "      <th>2096</th>\n",
       "      <td>ZENITH STEEL PIPES &amp; INDS. LTD.</td>\n",
       "      <td>5</td>\n",
       "    </tr>\n",
       "    <tr>\n",
       "      <th>2100</th>\n",
       "      <td>ZODIAC-JRD-MKJ LTD.</td>\n",
       "      <td>7</td>\n",
       "    </tr>\n",
       "  </tbody>\n",
       "</table>\n",
       "<p>763 rows × 2 columns</p>\n",
       "</div>"
      ],
      "text/plain": [
       "                            company_name  co_stkdate\n",
       "0                  3P LAND HOLDINGS LTD.          41\n",
       "5     A A R COMMERCIAL CO. LTD. [MERGED]           6\n",
       "8                    A C E EDUTREND LTD.         137\n",
       "16                      A K I INDIA LTD.          94\n",
       "17            A K M LACE & EMBROTEX LTD.          19\n",
       "...                                  ...         ...\n",
       "2088                      YUG DECOR LTD.         109\n",
       "2090         YURANUS INFRASTRUCTURE LTD.         104\n",
       "2094                 ZENITH EXPORTS LTD.           6\n",
       "2096     ZENITH STEEL PIPES & INDS. LTD.           5\n",
       "2100                 ZODIAC-JRD-MKJ LTD.           7\n",
       "\n",
       "[763 rows x 2 columns]"
      ]
     },
     "execution_count": 18,
     "metadata": {},
     "output_type": "execute_result"
    }
   ],
   "source": [
    "null_nse_firms[null_nse_firms['co_stkdate'] < 180]"
   ]
  },
  {
   "cell_type": "code",
   "execution_count": 21,
   "metadata": {},
   "outputs": [
    {
     "data": {
      "text/html": [
       "<div>\n",
       "<style scoped>\n",
       "    .dataframe tbody tr th:only-of-type {\n",
       "        vertical-align: middle;\n",
       "    }\n",
       "\n",
       "    .dataframe tbody tr th {\n",
       "        vertical-align: top;\n",
       "    }\n",
       "\n",
       "    .dataframe thead th {\n",
       "        text-align: right;\n",
       "    }\n",
       "</style>\n",
       "<table border=\"1\" class=\"dataframe\">\n",
       "  <thead>\n",
       "    <tr style=\"text-align: right;\">\n",
       "      <th></th>\n",
       "      <th>co_code</th>\n",
       "      <th>company_name</th>\n",
       "      <th>co_stkdate</th>\n",
       "      <th>bse_closing_price</th>\n",
       "      <th>nse_closing_price</th>\n",
       "    </tr>\n",
       "  </thead>\n",
       "  <tbody>\n",
       "    <tr>\n",
       "      <th>69292</th>\n",
       "      <td>11</td>\n",
       "      <td>20 MICRONS LTD.</td>\n",
       "      <td>2018-04-02</td>\n",
       "      <td>49.60</td>\n",
       "      <td>49.75</td>\n",
       "    </tr>\n",
       "    <tr>\n",
       "      <th>69293</th>\n",
       "      <td>11</td>\n",
       "      <td>20 MICRONS LTD.</td>\n",
       "      <td>2018-04-03</td>\n",
       "      <td>50.00</td>\n",
       "      <td>49.90</td>\n",
       "    </tr>\n",
       "    <tr>\n",
       "      <th>69294</th>\n",
       "      <td>11</td>\n",
       "      <td>20 MICRONS LTD.</td>\n",
       "      <td>2018-04-04</td>\n",
       "      <td>49.60</td>\n",
       "      <td>49.30</td>\n",
       "    </tr>\n",
       "    <tr>\n",
       "      <th>69295</th>\n",
       "      <td>11</td>\n",
       "      <td>20 MICRONS LTD.</td>\n",
       "      <td>2018-04-05</td>\n",
       "      <td>50.00</td>\n",
       "      <td>49.95</td>\n",
       "    </tr>\n",
       "    <tr>\n",
       "      <th>69296</th>\n",
       "      <td>11</td>\n",
       "      <td>20 MICRONS LTD.</td>\n",
       "      <td>2018-04-06</td>\n",
       "      <td>49.25</td>\n",
       "      <td>49.45</td>\n",
       "    </tr>\n",
       "  </tbody>\n",
       "</table>\n",
       "</div>"
      ],
      "text/plain": [
       "       co_code     company_name co_stkdate  bse_closing_price  \\\n",
       "69292       11  20 MICRONS LTD. 2018-04-02              49.60   \n",
       "69293       11  20 MICRONS LTD. 2018-04-03              50.00   \n",
       "69294       11  20 MICRONS LTD. 2018-04-04              49.60   \n",
       "69295       11  20 MICRONS LTD. 2018-04-05              50.00   \n",
       "69296       11  20 MICRONS LTD. 2018-04-06              49.25   \n",
       "\n",
       "       nse_closing_price  \n",
       "69292              49.75  \n",
       "69293              49.90  \n",
       "69294              49.30  \n",
       "69295              49.95  \n",
       "69296              49.45  "
      ]
     },
     "execution_count": 21,
     "metadata": {},
     "output_type": "execute_result"
    }
   ],
   "source": [
    "map_data.head()"
   ]
  },
  {
   "cell_type": "code",
   "execution_count": 22,
   "metadata": {},
   "outputs": [],
   "source": [
    "firms_nse = map_data[['co_code', 'company_name', 'co_stkdate', 'nse_closing_price']]"
   ]
  },
  {
   "cell_type": "code",
   "execution_count": 23,
   "metadata": {},
   "outputs": [
    {
     "data": {
      "text/plain": [
       "62"
      ]
     },
     "execution_count": 23,
     "metadata": {},
     "output_type": "execute_result"
    }
   ],
   "source": [
    "firms_nse = firms_nse.dropna()\n",
    "np.sum(firms_nse.groupby(by = ['company_name'])['co_stkdate'].count() < 150)"
   ]
  },
  {
   "cell_type": "code",
   "execution_count": 24,
   "metadata": {},
   "outputs": [],
   "source": [
    "firms_nse.to_csv('./../data/firms_nse.csv')"
   ]
  },
  {
   "cell_type": "code",
   "execution_count": 69,
   "metadata": {},
   "outputs": [
    {
     "data": {
      "text/html": [
       "<div>\n",
       "<style scoped>\n",
       "    .dataframe tbody tr th:only-of-type {\n",
       "        vertical-align: middle;\n",
       "    }\n",
       "\n",
       "    .dataframe tbody tr th {\n",
       "        vertical-align: top;\n",
       "    }\n",
       "\n",
       "    .dataframe thead th {\n",
       "        text-align: right;\n",
       "    }\n",
       "</style>\n",
       "<table border=\"1\" class=\"dataframe\">\n",
       "  <thead>\n",
       "    <tr style=\"text-align: right;\">\n",
       "      <th></th>\n",
       "      <th>index</th>\n",
       "      <th>co_code</th>\n",
       "      <th>company_name</th>\n",
       "      <th>co_stkdate</th>\n",
       "      <th>nse_closing_price</th>\n",
       "      <th>nse_returns</th>\n",
       "    </tr>\n",
       "  </thead>\n",
       "  <tbody>\n",
       "    <tr>\n",
       "      <th>0</th>\n",
       "      <td>41393</td>\n",
       "      <td>11</td>\n",
       "      <td>20 MICRONS LTD.</td>\n",
       "      <td>2019-01-01</td>\n",
       "      <td>44.25</td>\n",
       "      <td>1.0500</td>\n",
       "    </tr>\n",
       "    <tr>\n",
       "      <th>1</th>\n",
       "      <td>41394</td>\n",
       "      <td>11</td>\n",
       "      <td>20 MICRONS LTD.</td>\n",
       "      <td>2019-01-02</td>\n",
       "      <td>44.05</td>\n",
       "      <td>1.0000</td>\n",
       "    </tr>\n",
       "    <tr>\n",
       "      <th>2</th>\n",
       "      <td>41395</td>\n",
       "      <td>11</td>\n",
       "      <td>20 MICRONS LTD.</td>\n",
       "      <td>2019-01-03</td>\n",
       "      <td>43.45</td>\n",
       "      <td>0.9900</td>\n",
       "    </tr>\n",
       "    <tr>\n",
       "      <th>3</th>\n",
       "      <td>41396</td>\n",
       "      <td>11</td>\n",
       "      <td>20 MICRONS LTD.</td>\n",
       "      <td>2019-01-04</td>\n",
       "      <td>42.25</td>\n",
       "      <td>0.9700</td>\n",
       "    </tr>\n",
       "    <tr>\n",
       "      <th>4</th>\n",
       "      <td>41397</td>\n",
       "      <td>11</td>\n",
       "      <td>20 MICRONS LTD.</td>\n",
       "      <td>2019-01-07</td>\n",
       "      <td>42.65</td>\n",
       "      <td>1.0100</td>\n",
       "    </tr>\n",
       "    <tr>\n",
       "      <th>...</th>\n",
       "      <td>...</td>\n",
       "      <td>...</td>\n",
       "      <td>...</td>\n",
       "      <td>...</td>\n",
       "      <td>...</td>\n",
       "      <td>...</td>\n",
       "    </tr>\n",
       "    <tr>\n",
       "      <th>553</th>\n",
       "      <td>41946</td>\n",
       "      <td>11</td>\n",
       "      <td>20 MICRONS LTD.</td>\n",
       "      <td>2021-03-24</td>\n",
       "      <td>35.20</td>\n",
       "      <td>0.9737</td>\n",
       "    </tr>\n",
       "    <tr>\n",
       "      <th>554</th>\n",
       "      <td>41947</td>\n",
       "      <td>11</td>\n",
       "      <td>20 MICRONS LTD.</td>\n",
       "      <td>2021-03-25</td>\n",
       "      <td>33.95</td>\n",
       "      <td>0.9645</td>\n",
       "    </tr>\n",
       "    <tr>\n",
       "      <th>555</th>\n",
       "      <td>41948</td>\n",
       "      <td>11</td>\n",
       "      <td>20 MICRONS LTD.</td>\n",
       "      <td>2021-03-26</td>\n",
       "      <td>34.50</td>\n",
       "      <td>1.0162</td>\n",
       "    </tr>\n",
       "    <tr>\n",
       "      <th>556</th>\n",
       "      <td>41949</td>\n",
       "      <td>11</td>\n",
       "      <td>20 MICRONS LTD.</td>\n",
       "      <td>2021-03-30</td>\n",
       "      <td>34.75</td>\n",
       "      <td>1.0072</td>\n",
       "    </tr>\n",
       "    <tr>\n",
       "      <th>557</th>\n",
       "      <td>41950</td>\n",
       "      <td>11</td>\n",
       "      <td>20 MICRONS LTD.</td>\n",
       "      <td>2021-03-31</td>\n",
       "      <td>35.15</td>\n",
       "      <td>1.0115</td>\n",
       "    </tr>\n",
       "  </tbody>\n",
       "</table>\n",
       "<p>558 rows × 6 columns</p>\n",
       "</div>"
      ],
      "text/plain": [
       "     index  co_code     company_name co_stkdate  nse_closing_price  \\\n",
       "0    41393       11  20 MICRONS LTD. 2019-01-01              44.25   \n",
       "1    41394       11  20 MICRONS LTD. 2019-01-02              44.05   \n",
       "2    41395       11  20 MICRONS LTD. 2019-01-03              43.45   \n",
       "3    41396       11  20 MICRONS LTD. 2019-01-04              42.25   \n",
       "4    41397       11  20 MICRONS LTD. 2019-01-07              42.65   \n",
       "..     ...      ...              ...        ...                ...   \n",
       "553  41946       11  20 MICRONS LTD. 2021-03-24              35.20   \n",
       "554  41947       11  20 MICRONS LTD. 2021-03-25              33.95   \n",
       "555  41948       11  20 MICRONS LTD. 2021-03-26              34.50   \n",
       "556  41949       11  20 MICRONS LTD. 2021-03-30              34.75   \n",
       "557  41950       11  20 MICRONS LTD. 2021-03-31              35.15   \n",
       "\n",
       "     nse_returns  \n",
       "0         1.0500  \n",
       "1         1.0000  \n",
       "2         0.9900  \n",
       "3         0.9700  \n",
       "4         1.0100  \n",
       "..           ...  \n",
       "553       0.9737  \n",
       "554       0.9645  \n",
       "555       1.0162  \n",
       "556       1.0072  \n",
       "557       1.0115  \n",
       "\n",
       "[558 rows x 6 columns]"
      ]
     },
     "execution_count": 69,
     "metadata": {},
     "output_type": "execute_result"
    }
   ],
   "source": [
    "micron_ltd = firms_nse[firms_nse['company_name'].str.contains('MICRONS LTD.')]\n",
    "micron_ltd.reset_index(inplace=True)\n",
    "micron_ltd"
   ]
  },
  {
   "cell_type": "code",
   "execution_count": null,
   "metadata": {},
   "outputs": [],
   "source": []
  }
 ],
 "metadata": {
  "kernelspec": {
   "display_name": "Python 3.9.12 ('base')",
   "language": "python",
   "name": "python3"
  },
  "language_info": {
   "codemirror_mode": {
    "name": "ipython",
    "version": 3
   },
   "file_extension": ".py",
   "mimetype": "text/x-python",
   "name": "python",
   "nbconvert_exporter": "python",
   "pygments_lexer": "ipython3",
   "version": "3.9.12 (main, Apr  4 2022, 05:22:27) [MSC v.1916 64 bit (AMD64)]"
  },
  "orig_nbformat": 4,
  "vscode": {
   "interpreter": {
    "hash": "74ea417110b7752a71c21f464862fd53e3d806acf985c9ee176f54d26d8a4a39"
   }
  }
 },
 "nbformat": 4,
 "nbformat_minor": 2
}
