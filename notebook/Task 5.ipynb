{
 "cells": [
  {
   "cell_type": "markdown",
   "id": "c7ff7e5b",
   "metadata": {},
   "source": [
    "## Task 5"
   ]
  },
  {
   "cell_type": "markdown",
   "id": "26b38f44",
   "metadata": {},
   "source": [
    "1. Arranging the price data for these firms\n",
    "2. Calculate the crash risk."
   ]
  },
  {
   "cell_type": "markdown",
   "id": "695112af",
   "metadata": {},
   "source": [
    "A stock market collapse is a sudden and unexpected decline in stock prices. A stock market fall can occur as a result of a large disastrous event, an economic crisis, or the bursting of a long-term speculative bubble."
   ]
  },
  {
   "cell_type": "markdown",
   "id": "4f8e9b8a",
   "metadata": {},
   "source": [
    "Expanded market model regression \n",
    "$$r_{j,\\tau} = \\alpha_{j} + \\gamma_{1,j}r_{m,\\tau-2} + \\gamma_{2,j}r_{m,\\tau-1} + \\gamma_{3,j}r_{m,\\tau} + \\gamma_{4,j}r_{m,\\tau+1} + \\gamma_{5,j}r_{m,\\tau+2} + \\epsilon_{j,\\tau} \\tag{1}$$"
   ]
  },
  {
   "cell_type": "markdown",
   "id": "1238f9e5",
   "metadata": {},
   "source": [
    "Where \n",
    "- $r_{j,\\tau}$ be the return of $j$ th firm in $\\tau$ th day\n",
    "- $r_{m,\\tau}$ be the return of Nifty50 in $\\tau$ th day\n",
    "- $\\epsilon_{j,\\tau}$ be the error term of $j$ th firm in $\\tau$ th day"
   ]
  },
  {
   "cell_type": "markdown",
   "id": "bd1f6a2f",
   "metadata": {},
   "source": [
    "For the specific firm, the above regression equation would be\n",
    "$$r_{\\tau} = \\alpha + \\gamma_{1}r_{m,\\tau-2} + \\gamma_{2}r_{m,\\tau-1} + \\gamma_{3,j}r_{m,\\tau} + \\gamma_{4}r_{m,\\tau+1} + \\gamma_{5}r_{m,\\tau+2} + \\epsilon_{\\tau} \\tag{2}$$"
   ]
  },
  {
   "cell_type": "markdown",
   "id": "1b093bf5",
   "metadata": {},
   "source": [
    "To fit the above regression for a specific firm, required data format is given by \n",
    "firm return | index return before 2 day | index return before 1 day | index return at that day | index return after 1 day | index return after 2 day\n",
    "---------|---------|---------|---------|---------|--------- "
   ]
  },
  {
   "cell_type": "markdown",
   "id": "f317598f",
   "metadata": {},
   "source": [
    "The **firm specific daily** return for firm $j$ in day $\\tau$ is calculated as the natural logarithm of one plus the residual return \n",
    "$$w_{j,\\tau} = \\ln(1+e_{j,\\tau}) \\tag{3}$$"
   ]
  },
  {
   "attachments": {},
   "cell_type": "markdown",
   "id": "f33bc1c0",
   "metadata": {},
   "source": [
    "Crash risk Measures\n",
    "\n",
    "1. NSKEW (Negative skewness)\n",
    "\n",
    "This measure captures the asymmetry of the return distribution of the firm. Negative (positive) values for the skewness indicate data that are skewed to the left (right). NSKEW is calculated by taking the negative of the third moment of firm specific daily returns for each uear and normalising it by the standard deviation firm-specific daily returns raised to the third power. This measure is multiplied by -1 so that a higher value corresponds to greater crash risk. For each firm $j$ in day $\\tau$, \n",
    "\n",
    "$$NSKEW_{j, \\tau} = -\\frac{n(n-1)^{3/2} \\sum_{\\tau} w^3_{j,\\tau}}{(n-1)(n-2)(\\sum_{\\tau} w^2_{j,\\tau})^{3/2}}\\tag{4}$$\n",
    "\n",
    "2. DUVOL (Down-to-Top Volatility)\n",
    "\n",
    "This is the down to top volatility measure of the crash likelihood. \n",
    "A higher value of the DUVOL indicated greater crash risk. DUVOL does not involve third moments and hence is less likely to be overly influenced by extreme daily returns.\n",
    "\n",
    "$$DUVOL_{j,\\tau} = \\log \\left(\\frac{(n_u-1)\\sum_{Down}w^2_{j,\\tau}}{(n_d-1)\\sum_{Up} w^2_{j,\\tau}} \\right) \\tag{5}$$"
   ]
  },
  {
   "cell_type": "markdown",
   "id": "ed3cb6d3",
   "metadata": {},
   "source": [
    "![image.png](./../img/others/line_map.png)"
   ]
  },
  {
   "attachments": {},
   "cell_type": "markdown",
   "id": "5ca027d7",
   "metadata": {},
   "source": [
    "Workflow for Cradit Risk Calculation:\n",
    "- Make the appropriate table to run regression\n",
    "- Regression has to be done and collect the residuals\n",
    "- Calculate the quantity in equation (3)\n",
    "\n",
    "1. Count\n",
    "    - Count the firm-specific daily return falling below its (mean-3.09sd)\n",
    "    - Count the firm-specific daily return falling above its (mean+3.09sd)\n",
    "    - Difference between the above two\n",
    "2. NSKEW\n",
    "    - Use the information collected in first three steps\n",
    "    - Making the function in equation (5)\n",
    "3. DUVOL\n",
    "    - Use the information collected in first three steps\n",
    "    - Making the function in equation (6)"
   ]
  },
  {
   "cell_type": "markdown",
   "id": "7ce39d45",
   "metadata": {},
   "source": [
    "Construct static function in equation 4, 5 and 6"
   ]
  },
  {
   "cell_type": "markdown",
   "id": "f7dc5752",
   "metadata": {},
   "source": [
    "### Import Modules"
   ]
  },
  {
   "cell_type": "code",
   "execution_count": 29,
   "id": "620871bb",
   "metadata": {},
   "outputs": [],
   "source": [
    "import os, sys, copy, time\n",
    "from tqdm.notebook import tqdm\n",
    "import numpy as np\n",
    "import pandas as pd\n",
    "import pandas_datareader as get_data\n",
    "import statsmodels.api as sm"
   ]
  },
  {
   "cell_type": "code",
   "execution_count": 19,
   "id": "728557ef",
   "metadata": {},
   "outputs": [
    {
     "name": "stdout",
     "output_type": "stream",
     "text": [
      "Shape:  (558, 7)\n"
     ]
    },
    {
     "data": {
      "text/html": [
       "<div>\n",
       "<style scoped>\n",
       "    .dataframe tbody tr th:only-of-type {\n",
       "        vertical-align: middle;\n",
       "    }\n",
       "\n",
       "    .dataframe tbody tr th {\n",
       "        vertical-align: top;\n",
       "    }\n",
       "\n",
       "    .dataframe thead th {\n",
       "        text-align: right;\n",
       "    }\n",
       "</style>\n",
       "<table border=\"1\" class=\"dataframe\">\n",
       "  <thead>\n",
       "    <tr style=\"text-align: right;\">\n",
       "      <th></th>\n",
       "      <th>Unnamed: 0</th>\n",
       "      <th>index</th>\n",
       "      <th>co_code</th>\n",
       "      <th>company_name</th>\n",
       "      <th>co_stkdate</th>\n",
       "      <th>nse_closing_price</th>\n",
       "      <th>nse_returns</th>\n",
       "    </tr>\n",
       "  </thead>\n",
       "  <tbody>\n",
       "    <tr>\n",
       "      <th>0</th>\n",
       "      <td>0</td>\n",
       "      <td>41393</td>\n",
       "      <td>11</td>\n",
       "      <td>20 MICRONS LTD.</td>\n",
       "      <td>2019-01-01</td>\n",
       "      <td>44.25</td>\n",
       "      <td>1.05</td>\n",
       "    </tr>\n",
       "    <tr>\n",
       "      <th>1</th>\n",
       "      <td>1</td>\n",
       "      <td>41394</td>\n",
       "      <td>11</td>\n",
       "      <td>20 MICRONS LTD.</td>\n",
       "      <td>2019-01-02</td>\n",
       "      <td>44.05</td>\n",
       "      <td>1.00</td>\n",
       "    </tr>\n",
       "    <tr>\n",
       "      <th>2</th>\n",
       "      <td>2</td>\n",
       "      <td>41395</td>\n",
       "      <td>11</td>\n",
       "      <td>20 MICRONS LTD.</td>\n",
       "      <td>2019-01-03</td>\n",
       "      <td>43.45</td>\n",
       "      <td>0.99</td>\n",
       "    </tr>\n",
       "    <tr>\n",
       "      <th>3</th>\n",
       "      <td>3</td>\n",
       "      <td>41396</td>\n",
       "      <td>11</td>\n",
       "      <td>20 MICRONS LTD.</td>\n",
       "      <td>2019-01-04</td>\n",
       "      <td>42.25</td>\n",
       "      <td>0.97</td>\n",
       "    </tr>\n",
       "    <tr>\n",
       "      <th>4</th>\n",
       "      <td>4</td>\n",
       "      <td>41397</td>\n",
       "      <td>11</td>\n",
       "      <td>20 MICRONS LTD.</td>\n",
       "      <td>2019-01-07</td>\n",
       "      <td>42.65</td>\n",
       "      <td>1.01</td>\n",
       "    </tr>\n",
       "  </tbody>\n",
       "</table>\n",
       "</div>"
      ],
      "text/plain": [
       "   Unnamed: 0  index  co_code     company_name  co_stkdate  nse_closing_price  \\\n",
       "0           0  41393       11  20 MICRONS LTD.  2019-01-01              44.25   \n",
       "1           1  41394       11  20 MICRONS LTD.  2019-01-02              44.05   \n",
       "2           2  41395       11  20 MICRONS LTD.  2019-01-03              43.45   \n",
       "3           3  41396       11  20 MICRONS LTD.  2019-01-04              42.25   \n",
       "4           4  41397       11  20 MICRONS LTD.  2019-01-07              42.65   \n",
       "\n",
       "   nse_returns  \n",
       "0         1.05  \n",
       "1         1.00  \n",
       "2         0.99  \n",
       "3         0.97  \n",
       "4         1.01  "
      ]
     },
     "execution_count": 19,
     "metadata": {},
     "output_type": "execute_result"
    }
   ],
   "source": [
    "# Load the data\n",
    "micron_ltd = pd.read_csv('./../data/micron_ltd.csv')\n",
    "print ('Shape: ', micron_ltd.shape)\n",
    "micron_ltd.head()"
   ]
  },
  {
   "cell_type": "code",
   "execution_count": 25,
   "id": "af2d6218",
   "metadata": {},
   "outputs": [
    {
     "data": {
      "text/plain": [
       "'2019-01-01'"
      ]
     },
     "execution_count": 25,
     "metadata": {},
     "output_type": "execute_result"
    }
   ],
   "source": [
    "micron_ltd['co_stkdate'].iloc[0]"
   ]
  },
  {
   "cell_type": "code",
   "execution_count": 28,
   "id": "30191e7a",
   "metadata": {},
   "outputs": [
    {
     "data": {
      "text/plain": [
       "Date\n",
       "2019-01-02         NaN\n",
       "2019-01-03   -0.011142\n",
       "2019-01-04    0.005163\n",
       "2019-01-07    0.004144\n",
       "2019-01-08    0.002818\n",
       "                ...   \n",
       "2021-03-24   -0.017911\n",
       "2021-03-25   -0.015430\n",
       "2021-03-26    0.012733\n",
       "2021-03-30    0.023285\n",
       "2021-03-31   -0.010401\n",
       "Name: Close, Length: 552, dtype: float64"
      ]
     },
     "execution_count": 28,
     "metadata": {},
     "output_type": "execute_result"
    }
   ],
   "source": [
    "market = get_data.DataReader('^NSEI', 'yahoo', start = micron_ltd['co_stkdate'].iloc[0], end = micron_ltd['co_stkdate'].iloc[-1])\n",
    "market['Close'].pct_change()"
   ]
  },
  {
   "cell_type": "markdown",
   "id": "2d8eb0fe",
   "metadata": {},
   "source": [
    "### Define Functions"
   ]
  },
  {
   "cell_type": "code",
   "execution_count": null,
   "id": "446eefad",
   "metadata": {},
   "outputs": [],
   "source": [
    "# Function for making the data for regression\n",
    "def making_data_reg(firm_CP, market_CP):\n",
    "    '''\n",
    "    Input: closing price of firm's stock, market stock\n",
    "    Output: X and y\n",
    "    '''\n",
    "    df = pd.DataFrame()\n",
    "    df['y'] = firm_CP.pct_change()\n",
    "\n",
    "    market_return = market_CP.pct_change()\n",
    "    idx = ['x'+i for i in ['-2','-1','0','+1','+2']]\n",
    "    for i,j in zip(idx,range(-2,3,1)):\n",
    "        df[i] = market_return.shift(j)\n",
    "    return df"
   ]
  },
  {
   "cell_type": "code",
   "execution_count": null,
   "id": "93e9391c",
   "metadata": {},
   "outputs": [],
   "source": [
    "# Fitting multiple regression and getting the error part\n",
    "def regression(X, y):\n",
    "    '''\n",
    "    Input: Dependent variable and design matrix\n",
    "    Output: Residual = (y-y_hat)\n",
    "    '''\n",
    "    beta_hat = np.linalg.inv(X.T @ X)@X.T@y\n",
    "    y_hat = X@beta_hat\n",
    "    return y-y_hat"
   ]
  },
  {
   "cell_type": "code",
   "execution_count": null,
   "id": "74715458",
   "metadata": {},
   "outputs": [],
   "source": [
    "# Function to calculate firm-specific daily return\n",
    "def firm_specific_return(residuals):\n",
    "    '''\n",
    "    Input: Residuals (e_tau)\n",
    "    Output: w = ln(1+e_tau)\n",
    "    '''\n",
    "    return np.log(1 + residuals)"
   ]
  },
  {
   "cell_type": "code",
   "execution_count": 5,
   "id": "9a5fc796",
   "metadata": {},
   "outputs": [],
   "source": [
    "# First measure: Binary\n",
    "def BINARY(w):\n",
    "    '''\n",
    "    Input: (x) firm-specific daily return\n",
    "    Output: 0 or 1\n",
    "    '''\n",
    "    q_99 = np.mean(w)-3.09*np.std(w)\n",
    "    if np.sum(w < q_99) > 0:\n",
    "        CR = 1\n",
    "    else:\n",
    "        CR = 0\n",
    "    return CR\n",
    "\n",
    "# Second measure: NSKEW\n",
    "def NSKEW(w):\n",
    "    '''\n",
    "    Input: (w) firm-specific daily return\n",
    "    Output: -(n*(n-1)*np.sum(w**3))/((n-1)*(n-2)*(np.sum(w**2)**1.5))\n",
    "    '''\n",
    "    n = len(w)\n",
    "    numerator = n*(n-1)*np.sum(w**3)\n",
    "    denominator = (n-1)*(n-2)*(np.sum(w**2)**1.5)\n",
    "    return -numerator/denominator\n",
    "\n",
    "# Third measure: DUVOL\n",
    "def DUVOL(w):\n",
    "    '''\n",
    "    Input: (w) firm-specific daily return\n",
    "    Output: log(((n_u-1)*np.sum(w_downdays**2))/(n_d-1)*np.sum(w_updays**2))\n",
    "    '''\n",
    "    n = len(w)\n",
    "    mean = np.mean(w)\n",
    "    # select index of days having above or below the annual mean\n",
    "    updays = np.argwhere(w > mean).flatten(); n_u = len(updays)\n",
    "    downdays = np.argwhere(w < mean).flatten(); n_d = len(downdays)\n",
    "    # getting returns of specific indices\n",
    "    w_updays = w[updays]; w_downdays = w[downdays]\n",
    "    numerator = (n_u-1)*np.sum(w_downdays**2)\n",
    "    denominator = (n_d-1)*np.sum(w_updays**2)\n",
    "    return np.log(numerator/denominator)"
   ]
  },
  {
   "cell_type": "markdown",
   "id": "9604fff2",
   "metadata": {},
   "source": [
    "Problem faced\n",
    "\n",
    "- There are no common null values in both the exchange\n",
    "- How can I select one firm's data from one of the exchange?\n",
    "- Some date issue is there. Like suppose I collect market data for duration first date and last date of the firm's available date, then length is getting small for the market data.\n",
    "- Could we replace the NA values after taking the lagged market data. Otherwise multiple regression cannot be work."
   ]
  },
  {
   "cell_type": "markdown",
   "id": "212b0f7a",
   "metadata": {},
   "source": [
    "Market data is collected from : https://www1.nseindia.com/products/content/equities/indices/historical_index_data.htm\n",
    "Assumptions:\n",
    "- Considered only those dates data where firms data is available.\n",
    "- First we will try for those firms which have most data."
   ]
  },
  {
   "cell_type": "code",
   "execution_count": null,
   "id": "8f455ab0",
   "metadata": {},
   "outputs": [],
   "source": []
  }
 ],
 "metadata": {
  "kernelspec": {
   "display_name": "Python 3.9.12 ('base')",
   "language": "python",
   "name": "python3"
  },
  "language_info": {
   "codemirror_mode": {
    "name": "ipython",
    "version": 3
   },
   "file_extension": ".py",
   "mimetype": "text/x-python",
   "name": "python",
   "nbconvert_exporter": "python",
   "pygments_lexer": "ipython3",
   "version": "3.9.12 (main, Apr  4 2022, 05:22:27) [MSC v.1916 64 bit (AMD64)]"
  },
  "vscode": {
   "interpreter": {
    "hash": "74ea417110b7752a71c21f464862fd53e3d806acf985c9ee176f54d26d8a4a39"
   }
  }
 },
 "nbformat": 4,
 "nbformat_minor": 5
}
