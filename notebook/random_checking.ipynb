{
 "cells": [
  {
   "cell_type": "code",
   "execution_count": 1,
   "metadata": {},
   "outputs": [],
   "source": [
    "import numpy as np\n",
    "import statsmodels.api as sm\n",
    "spector_data = sm.datasets.spector.load()"
   ]
  },
  {
   "cell_type": "code",
   "execution_count": 4,
   "metadata": {},
   "outputs": [],
   "source": [
    "spector_data.exog = sm.add_constant(spector_data.exog, prepend=False)"
   ]
  },
  {
   "cell_type": "code",
   "execution_count": 6,
   "metadata": {},
   "outputs": [],
   "source": [
    "mod = sm.OLS(spector_data.endog, spector_data.exog)"
   ]
  },
  {
   "cell_type": "code",
   "execution_count": 7,
   "metadata": {},
   "outputs": [],
   "source": [
    "res = mod.fit()"
   ]
  },
  {
   "cell_type": "code",
   "execution_count": 8,
   "metadata": {},
   "outputs": [
    {
     "data": {
      "text/plain": [
       "0     0.054269\n",
       "1    -0.073407\n",
       "2    -0.275299\n",
       "3     0.017629\n",
       "4     0.422213\n",
       "5    -0.007016\n",
       "6     0.039369\n",
       "7    -0.053635\n",
       "8    -0.169832\n",
       "9     0.375360\n",
       "10    0.068185\n",
       "11   -0.283358\n",
       "12   -0.399321\n",
       "13    0.723483\n",
       "14   -0.412252\n",
       "15    0.027656\n",
       "16   -0.039953\n",
       "17   -0.014090\n",
       "18   -0.569143\n",
       "19    0.391313\n",
       "20   -0.066965\n",
       "21    0.146456\n",
       "22   -0.368001\n",
       "23   -0.781530\n",
       "24    0.225544\n",
       "25    0.523394\n",
       "26    0.368588\n",
       "27   -0.370905\n",
       "28    0.206006\n",
       "29    0.022668\n",
       "30   -0.538875\n",
       "31    0.811449\n",
       "dtype: float64"
      ]
     },
     "execution_count": 8,
     "metadata": {},
     "output_type": "execute_result"
    }
   ],
   "source": [
    "res.resid"
   ]
  },
  {
   "cell_type": "code",
   "execution_count": 11,
   "metadata": {},
   "outputs": [
    {
     "data": {
      "text/html": [
       "<table class=\"simpletable\">\n",
       "<caption>OLS Regression Results</caption>\n",
       "<tr>\n",
       "  <th>Dep. Variable:</th>          <td>GRADE</td>      <th>  R-squared:         </th> <td>   0.416</td>\n",
       "</tr>\n",
       "<tr>\n",
       "  <th>Model:</th>                   <td>OLS</td>       <th>  Adj. R-squared:    </th> <td>   0.353</td>\n",
       "</tr>\n",
       "<tr>\n",
       "  <th>Method:</th>             <td>Least Squares</td>  <th>  F-statistic:       </th> <td>   6.646</td>\n",
       "</tr>\n",
       "<tr>\n",
       "  <th>Date:</th>             <td>Wed, 16 Nov 2022</td> <th>  Prob (F-statistic):</th>  <td>0.00157</td>\n",
       "</tr>\n",
       "<tr>\n",
       "  <th>Time:</th>                 <td>00:16:54</td>     <th>  Log-Likelihood:    </th> <td> -12.978</td>\n",
       "</tr>\n",
       "<tr>\n",
       "  <th>No. Observations:</th>      <td>    32</td>      <th>  AIC:               </th> <td>   33.96</td>\n",
       "</tr>\n",
       "<tr>\n",
       "  <th>Df Residuals:</th>          <td>    28</td>      <th>  BIC:               </th> <td>   39.82</td>\n",
       "</tr>\n",
       "<tr>\n",
       "  <th>Df Model:</th>              <td>     3</td>      <th>                     </th>     <td> </td>   \n",
       "</tr>\n",
       "<tr>\n",
       "  <th>Covariance Type:</th>      <td>nonrobust</td>    <th>                     </th>     <td> </td>   \n",
       "</tr>\n",
       "</table>\n",
       "<table class=\"simpletable\">\n",
       "<tr>\n",
       "    <td></td>       <th>coef</th>     <th>std err</th>      <th>t</th>      <th>P>|t|</th>  <th>[0.025</th>    <th>0.975]</th>  \n",
       "</tr>\n",
       "<tr>\n",
       "  <th>GPA</th>   <td>    0.4639</td> <td>    0.162</td> <td>    2.864</td> <td> 0.008</td> <td>    0.132</td> <td>    0.796</td>\n",
       "</tr>\n",
       "<tr>\n",
       "  <th>TUCE</th>  <td>    0.0105</td> <td>    0.019</td> <td>    0.539</td> <td> 0.594</td> <td>   -0.029</td> <td>    0.050</td>\n",
       "</tr>\n",
       "<tr>\n",
       "  <th>PSI</th>   <td>    0.3786</td> <td>    0.139</td> <td>    2.720</td> <td> 0.011</td> <td>    0.093</td> <td>    0.664</td>\n",
       "</tr>\n",
       "<tr>\n",
       "  <th>const</th> <td>   -1.4980</td> <td>    0.524</td> <td>   -2.859</td> <td> 0.008</td> <td>   -2.571</td> <td>   -0.425</td>\n",
       "</tr>\n",
       "</table>\n",
       "<table class=\"simpletable\">\n",
       "<tr>\n",
       "  <th>Omnibus:</th>       <td> 0.176</td> <th>  Durbin-Watson:     </th> <td>   2.346</td>\n",
       "</tr>\n",
       "<tr>\n",
       "  <th>Prob(Omnibus):</th> <td> 0.916</td> <th>  Jarque-Bera (JB):  </th> <td>   0.167</td>\n",
       "</tr>\n",
       "<tr>\n",
       "  <th>Skew:</th>          <td> 0.141</td> <th>  Prob(JB):          </th> <td>   0.920</td>\n",
       "</tr>\n",
       "<tr>\n",
       "  <th>Kurtosis:</th>      <td> 2.786</td> <th>  Cond. No.          </th> <td>    176.</td>\n",
       "</tr>\n",
       "</table><br/><br/>Notes:<br/>[1] Standard Errors assume that the covariance matrix of the errors is correctly specified."
      ],
      "text/plain": [
       "<class 'statsmodels.iolib.summary.Summary'>\n",
       "\"\"\"\n",
       "                            OLS Regression Results                            \n",
       "==============================================================================\n",
       "Dep. Variable:                  GRADE   R-squared:                       0.416\n",
       "Model:                            OLS   Adj. R-squared:                  0.353\n",
       "Method:                 Least Squares   F-statistic:                     6.646\n",
       "Date:                Wed, 16 Nov 2022   Prob (F-statistic):            0.00157\n",
       "Time:                        00:16:54   Log-Likelihood:                -12.978\n",
       "No. Observations:                  32   AIC:                             33.96\n",
       "Df Residuals:                      28   BIC:                             39.82\n",
       "Df Model:                           3                                         \n",
       "Covariance Type:            nonrobust                                         \n",
       "==============================================================================\n",
       "                 coef    std err          t      P>|t|      [0.025      0.975]\n",
       "------------------------------------------------------------------------------\n",
       "GPA            0.4639      0.162      2.864      0.008       0.132       0.796\n",
       "TUCE           0.0105      0.019      0.539      0.594      -0.029       0.050\n",
       "PSI            0.3786      0.139      2.720      0.011       0.093       0.664\n",
       "const         -1.4980      0.524     -2.859      0.008      -2.571      -0.425\n",
       "==============================================================================\n",
       "Omnibus:                        0.176   Durbin-Watson:                   2.346\n",
       "Prob(Omnibus):                  0.916   Jarque-Bera (JB):                0.167\n",
       "Skew:                           0.141   Prob(JB):                        0.920\n",
       "Kurtosis:                       2.786   Cond. No.                         176.\n",
       "==============================================================================\n",
       "\n",
       "Notes:\n",
       "[1] Standard Errors assume that the covariance matrix of the errors is correctly specified.\n",
       "\"\"\""
      ]
     },
     "execution_count": 11,
     "metadata": {},
     "output_type": "execute_result"
    }
   ],
   "source": [
    "res.summary()"
   ]
  },
  {
   "cell_type": "code",
   "execution_count": 2,
   "metadata": {},
   "outputs": [
    {
     "name": "stdout",
     "output_type": "stream",
     "text": [
      "Collecting sklearn\n",
      "  Downloading sklearn-0.0.post1.tar.gz (3.6 kB)\n",
      "Building wheels for collected packages: sklearn\n",
      "  Building wheel for sklearn (setup.py): started\n",
      "  Building wheel for sklearn (setup.py): finished with status 'done'\n",
      "  Created wheel for sklearn: filename=sklearn-0.0.post1-py3-none-any.whl size=2959 sha256=918fd88a04fb78e8f6be9673091ed5a239f60e201d1ea69c578b4ce6911293ed\n",
      "  Stored in directory: c:\\users\\system administrator\\appdata\\local\\pip\\cache\\wheels\\f8\\e0\\3d\\9d0c2020c44a519b9f02ab4fa6d2a4a996c98d79ab2f569fa1\n",
      "Successfully built sklearn\n",
      "Installing collected packages: sklearn\n",
      "Successfully installed sklearn-0.0.post1\n",
      "Note: you may need to restart the kernel to use updated packages.\n"
     ]
    }
   ],
   "source": [
    "from sklearn.datasets._samples_generator"
   ]
  },
  {
   "cell_type": "code",
   "execution_count": 3,
   "metadata": {},
   "outputs": [],
   "source": [
    "from sklearn.datasets._samples_generator import make_regression\n",
    "X, y = make_regression(n_samples=100, n_features=1, noise=10)"
   ]
  },
  {
   "cell_type": "code",
   "execution_count": 4,
   "metadata": {},
   "outputs": [
    {
     "data": {
      "text/plain": [
       "Text(0.5, 1.0, 'Sample Dataset')"
      ]
     },
     "execution_count": 4,
     "metadata": {},
     "output_type": "execute_result"
    },
    {
     "data": {
      "image/png": "[encoded data removed]",
      "text/plain": [
       "<Figure size 432x288 with 1 Axes>"
      ]
     },
     "metadata": {},
     "output_type": "display_data"
    }
   ],
   "source": [
    "%matplotlib inline\n",
    "import matplotlib.pyplot as plt\n",
    "plt.style.use('seaborn-whitegrid')\n",
    "plt.plot(X, y, 'o', color='black');\n",
    "plt.title(\"Sample Dataset\")"
   ]
  },
  {
   "cell_type": "code",
   "execution_count": 5,
   "metadata": {},
   "outputs": [],
   "source": [
    "from sklearn.linear_model import LinearRegression\n",
    "#run regression\n",
    "reg = LinearRegression().fit(X, y)"
   ]
  },
  {
   "cell_type": "code",
   "execution_count": 7,
   "metadata": {},
   "outputs": [
    {
     "data": {
      "text/plain": [
       "-0.10095430373298653"
      ]
     },
     "execution_count": 7,
     "metadata": {},
     "output_type": "execute_result"
    }
   ],
   "source": [
    "reg.intercept_"
   ]
  },
  {
   "cell_type": "code",
   "execution_count": 18,
   "metadata": {},
   "outputs": [
    {
     "name": "stdout",
     "output_type": "stream",
     "text": [
      "(0,0)\n",
      "Length: 2\n",
      "A[0,1], A[2,1]\n",
      "A[0,2], A[3,1]\n",
      "Length: 2\n",
      "A[0,1], A[2,2]\n",
      "A[0,2], A[3,2]\n",
      "Length: 2\n",
      "A[0,1], A[2,3]\n",
      "A[0,2], A[3,3]\n",
      "Length: 2\n",
      "A[0,1], A[2,4]\n",
      "A[0,2], A[3,4]\n",
      "(1,1)\n",
      "Length: 2\n",
      "A[1,1], A[2,1]\n",
      "A[1,2], A[3,1]\n",
      "Length: 2\n",
      "A[1,1], A[2,2]\n",
      "A[1,2], A[3,2]\n",
      "Length: 2\n",
      "A[1,1], A[2,3]\n",
      "A[1,2], A[3,3]\n",
      "Length: 2\n",
      "A[1,1], A[2,4]\n",
      "A[1,2], A[3,4]\n",
      "(2,2)\n",
      "Length: 2\n",
      "A[2,1], A[2,1]\n",
      "A[2,2], A[3,1]\n",
      "Length: 2\n",
      "A[2,1], A[2,2]\n",
      "A[2,2], A[3,2]\n",
      "Length: 2\n",
      "A[2,1], A[2,3]\n",
      "A[2,2], A[3,3]\n",
      "Length: 2\n",
      "A[2,1], A[2,4]\n",
      "A[2,2], A[3,4]\n",
      "(3,3)\n",
      "Length: 2\n",
      "A[3,1], A[2,1]\n",
      "A[3,2], A[3,1]\n",
      "Length: 2\n",
      "A[3,1], A[2,2]\n",
      "A[3,2], A[3,2]\n",
      "Length: 2\n",
      "A[3,1], A[2,3]\n",
      "A[3,2], A[3,3]\n",
      "Length: 2\n",
      "A[3,1], A[2,4]\n",
      "A[3,2], A[3,4]\n",
      "(4,4)\n",
      "Length: 2\n",
      "A[4,1], A[2,1]\n",
      "A[4,2], A[3,1]\n",
      "Length: 2\n",
      "A[4,1], A[2,2]\n",
      "A[4,2], A[3,2]\n",
      "Length: 2\n",
      "A[4,1], A[2,3]\n",
      "A[4,2], A[3,3]\n",
      "Length: 2\n",
      "A[4,1], A[2,4]\n",
      "A[4,2], A[3,4]\n"
     ]
    }
   ],
   "source": [
    "for i in range(5):\n",
    "    print(f'({i},{i})')\n",
    "    for j in range(1,5,1):\n",
    "        l = 2\n",
    "        print(f'Length: {l}')\n",
    "        for k in range(1,l+1,1):\n",
    "            print(f'A[{i},{k}], A[{k+1},{j}]')\n",
    "        l += 1"
   ]
  },
  {
   "cell_type": "code",
   "execution_count": 34,
   "metadata": {},
   "outputs": [
    {
     "name": "stdout",
     "output_type": "stream",
     "text": [
      "A[0,0]\n",
      "A[1,1]\n",
      "Length 1 positions:\n",
      "A[1,1]\n",
      "A[2,2]\n",
      "Length 1 positions:\n",
      "A[2,1]\n",
      "Length 2 positions:\n",
      "A[2,2]\n",
      "A[3,3]\n",
      "Length 1 positions:\n",
      "A[3,1]\n",
      "Length 2 positions:\n",
      "A[3,2]\n",
      "Length 3 positions:\n",
      "A[3,3]\n",
      "A[4,4]\n",
      "Length 1 positions:\n",
      "A[4,1]\n",
      "Length 2 positions:\n",
      "A[4,2]\n",
      "Length 3 positions:\n",
      "A[4,3]\n",
      "Length 4 positions:\n",
      "A[4,4]\n"
     ]
    }
   ],
   "source": [
    "for i in range(5):\n",
    "    print(f'A[{i},{i}]')\n",
    "    l = 1\n",
    "    for j in range(1,i+1):\n",
    "        print(f'Length {l} positions:')\n",
    "        print(f'A[{i},{j}]')\n",
    "        l += 1\n",
    "        "
   ]
  },
  {
   "cell_type": "code",
   "execution_count": null,
   "metadata": {},
   "outputs": [],
   "source": []
  }
 ],
 "metadata": {
  "kernelspec": {
   "display_name": "Python 3.9.12 ('base')",
   "language": "python",
   "name": "python3"
  },
  "language_info": {
   "codemirror_mode": {
    "name": "ipython",
    "version": 3
   },
   "file_extension": ".py",
   "mimetype": "text/x-python",
   "name": "python",
   "nbconvert_exporter": "python",
   "pygments_lexer": "ipython3",
   "version": "3.9.12 (main, Apr  4 2022, 05:22:27) [MSC v.1916 64 bit (AMD64)]"
  },
  "orig_nbformat": 4,
  "vscode": {
   "interpreter": {
    "hash": "74ea417110b7752a71c21f464862fd53e3d806acf985c9ee176f54d26d8a4a39"
   }
  }
 },
 "nbformat": 4,
 "nbformat_minor": 2
}
